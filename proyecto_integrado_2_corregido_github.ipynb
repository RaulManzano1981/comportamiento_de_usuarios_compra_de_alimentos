{
 "cells": [
  {
   "cell_type": "markdown",
   "metadata": {},
   "source": [
    "# Investigación de comportamiento de usuarios en la aplicación de venta de alimentos"
   ]
  },
  {
   "cell_type": "markdown",
   "metadata": {},
   "source": [
    "## Introducción\n",
    "\n",
    "A continuación se debe debe investigar el comportamiento del usuario para la aplicación de la empresa que vende productos alimenticios.\n",
    "\n",
    "El estudio debe analisar el embudo de eventos de la aplicación. Para ello se van a utilizar dos grupos de control que se van a denominar 246 y 247 y un grupo experimental denominado 248.\n",
    "\n",
    "Se deben realizar test estadisticos A/A y A/B por cada uno de los eventos y determinar si hay diferencias significativas entre los grupos."
   ]
  },
  {
   "cell_type": "markdown",
   "metadata": {},
   "source": [
    "## Contenido\n",
    "Introducción\n",
    "\n",
    "1 Inicio\n",
    "\n",
    "    1.1 Carga de \n",
    "    1.2 Carga de dataset\n",
    "    1.3 Lectura y explorsción de dataset\n",
    "    1.4 Preprocesamiento de datos\n",
    "\n",
    "2 Estudiar y comprobar los datos \n",
    "\n",
    "    2.1 Cuantos eventos hay en los registros?\n",
    "    2.2 Cuantos usuarios hay en los registros?\n",
    "    2.3 Cual es el promedio de eventos por usuarios?\n",
    "    2.4 Qué periodo de eventos cubren los datos?\n",
    "    2.5 Confirmación de los usuarios en los tres grupos experimentales\n",
    "\n",
    "3 Estudio del embudo de eventos\n",
    "\n",
    "    3.1 Qué eventos hay en los registros y su frecuencia\n",
    "    3.2 Que cantidad de usuarios realizaron estas acciones\n",
    "    3.3 Orden de ocurrecia de eventos\n",
    "    3.4 Trazar el gráfico de embudo\n",
    "    3.5 En que etapa se puerden más usuarios?\n",
    "    3.6 Qué porcentaje de usuarios hace todo el viaje?\n",
    "    3.7 Gráfico de embudo\n",
    "\n",
    "4 Estudio de resultados del experimento\n",
    "\n",
    "    4.1 Cuantos usuarios hay en cada grupo?\n",
    "    4.2 Observar si hay diferencia significativa entre los grupos 246 y 247\n",
    "    4.3 Seleccionar el evento más popular\n",
    "    4.4 Comprobar si hay diferencias significativas para todos los eventos\n",
    "\n",
    "        4.4.1 Entre grupos de control\n",
    "        4.4.2 Entre cada grupo de control y el grupo de experimento\n",
    "\n",
    "    4.5 Nivel de significancia establecido y corregido\n",
    "\n",
    "Conclusiones"
   ]
  },
  {
   "cell_type": "markdown",
   "metadata": {},
   "source": [
    "### 1 Inicio"
   ]
  },
  {
   "cell_type": "markdown",
   "metadata": {},
   "source": [
    "#### 1.1 Carga de librerias"
   ]
  },
  {
   "cell_type": "code",
   "execution_count": 52,
   "metadata": {},
   "outputs": [],
   "source": [
    "import pandas as pd\n",
    "import numpy as np\n",
    "import matplotlib.pyplot as plt\n",
    "import seaborn as sns\n",
    "from scipy import stats as st\n",
    "import plotly.express as px\n",
    "import math as mth"
   ]
  },
  {
   "cell_type": "markdown",
   "metadata": {},
   "source": [
    "#### 1.2 Carga de dataset"
   ]
  },
  {
   "cell_type": "code",
   "execution_count": 53,
   "metadata": {},
   "outputs": [],
   "source": [
    "try:\n",
    "    data_logs=pd.read_csv('C:/Users/Yessica/Documents/Raul/Practicum/Proyecto_integrado_2/logs_exp_us.csv', sep='\\t')\n",
    "except:\n",
    "    data_logs=pd.read_csv('/datasets/logs_exp_us.csv', sep='\\t')"
   ]
  },
  {
   "cell_type": "markdown",
   "metadata": {},
   "source": [
    "#### 1.3 Lectura y exploración de archivo"
   ]
  },
  {
   "cell_type": "code",
   "execution_count": 54,
   "metadata": {},
   "outputs": [
    {
     "data": {
      "text/html": [
       "<div>\n",
       "<style scoped>\n",
       "    .dataframe tbody tr th:only-of-type {\n",
       "        vertical-align: middle;\n",
       "    }\n",
       "\n",
       "    .dataframe tbody tr th {\n",
       "        vertical-align: top;\n",
       "    }\n",
       "\n",
       "    .dataframe thead th {\n",
       "        text-align: right;\n",
       "    }\n",
       "</style>\n",
       "<table border=\"1\" class=\"dataframe\">\n",
       "  <thead>\n",
       "    <tr style=\"text-align: right;\">\n",
       "      <th></th>\n",
       "      <th>EventName</th>\n",
       "      <th>DeviceIDHash</th>\n",
       "      <th>EventTimestamp</th>\n",
       "      <th>ExpId</th>\n",
       "    </tr>\n",
       "  </thead>\n",
       "  <tbody>\n",
       "    <tr>\n",
       "      <th>0</th>\n",
       "      <td>MainScreenAppear</td>\n",
       "      <td>4575588528974610257</td>\n",
       "      <td>1564029816</td>\n",
       "      <td>246</td>\n",
       "    </tr>\n",
       "    <tr>\n",
       "      <th>1</th>\n",
       "      <td>MainScreenAppear</td>\n",
       "      <td>7416695313311560658</td>\n",
       "      <td>1564053102</td>\n",
       "      <td>246</td>\n",
       "    </tr>\n",
       "    <tr>\n",
       "      <th>2</th>\n",
       "      <td>PaymentScreenSuccessful</td>\n",
       "      <td>3518123091307005509</td>\n",
       "      <td>1564054127</td>\n",
       "      <td>248</td>\n",
       "    </tr>\n",
       "    <tr>\n",
       "      <th>3</th>\n",
       "      <td>CartScreenAppear</td>\n",
       "      <td>3518123091307005509</td>\n",
       "      <td>1564054127</td>\n",
       "      <td>248</td>\n",
       "    </tr>\n",
       "    <tr>\n",
       "      <th>4</th>\n",
       "      <td>PaymentScreenSuccessful</td>\n",
       "      <td>6217807653094995999</td>\n",
       "      <td>1564055322</td>\n",
       "      <td>248</td>\n",
       "    </tr>\n",
       "  </tbody>\n",
       "</table>\n",
       "</div>"
      ],
      "text/plain": [
       "                 EventName         DeviceIDHash  EventTimestamp  ExpId\n",
       "0         MainScreenAppear  4575588528974610257      1564029816    246\n",
       "1         MainScreenAppear  7416695313311560658      1564053102    246\n",
       "2  PaymentScreenSuccessful  3518123091307005509      1564054127    248\n",
       "3         CartScreenAppear  3518123091307005509      1564054127    248\n",
       "4  PaymentScreenSuccessful  6217807653094995999      1564055322    248"
      ]
     },
     "execution_count": 54,
     "metadata": {},
     "output_type": "execute_result"
    }
   ],
   "source": [
    "data_logs.head()"
   ]
  },
  {
   "cell_type": "code",
   "execution_count": 55,
   "metadata": {},
   "outputs": [
    {
     "name": "stdout",
     "output_type": "stream",
     "text": [
      "<class 'pandas.core.frame.DataFrame'>\n",
      "RangeIndex: 244126 entries, 0 to 244125\n",
      "Data columns (total 4 columns):\n",
      " #   Column          Non-Null Count   Dtype \n",
      "---  ------          --------------   ----- \n",
      " 0   EventName       244126 non-null  object\n",
      " 1   DeviceIDHash    244126 non-null  int64 \n",
      " 2   EventTimestamp  244126 non-null  int64 \n",
      " 3   ExpId           244126 non-null  int64 \n",
      "dtypes: int64(3), object(1)\n",
      "memory usage: 7.5+ MB\n"
     ]
    }
   ],
   "source": [
    "data_logs.info()"
   ]
  },
  {
   "cell_type": "markdown",
   "metadata": {},
   "source": [
    "#### 1.4 Preprocesamiento de datos"
   ]
  },
  {
   "cell_type": "code",
   "execution_count": 56,
   "metadata": {},
   "outputs": [
    {
     "data": {
      "text/plain": [
       "EventName         0\n",
       "DeviceIDHash      0\n",
       "EventTimestamp    0\n",
       "ExpId             0\n",
       "dtype: int64"
      ]
     },
     "execution_count": 56,
     "metadata": {},
     "output_type": "execute_result"
    }
   ],
   "source": [
    "#Buscando valores null\n",
    "data_logs.isna().sum()"
   ]
  },
  {
   "cell_type": "markdown",
   "metadata": {},
   "source": [
    "Coincide con los datos arrojados en el .info realizado en el paso anterior"
   ]
  },
  {
   "cell_type": "code",
   "execution_count": 57,
   "metadata": {},
   "outputs": [
    {
     "data": {
      "text/html": [
       "<div>\n",
       "<style scoped>\n",
       "    .dataframe tbody tr th:only-of-type {\n",
       "        vertical-align: middle;\n",
       "    }\n",
       "\n",
       "    .dataframe tbody tr th {\n",
       "        vertical-align: top;\n",
       "    }\n",
       "\n",
       "    .dataframe thead th {\n",
       "        text-align: right;\n",
       "    }\n",
       "</style>\n",
       "<table border=\"1\" class=\"dataframe\">\n",
       "  <thead>\n",
       "    <tr style=\"text-align: right;\">\n",
       "      <th></th>\n",
       "      <th>event_name</th>\n",
       "      <th>user_id</th>\n",
       "      <th>timestamp</th>\n",
       "      <th>experiment_group</th>\n",
       "    </tr>\n",
       "  </thead>\n",
       "  <tbody>\n",
       "    <tr>\n",
       "      <th>0</th>\n",
       "      <td>MainScreenAppear</td>\n",
       "      <td>4575588528974610257</td>\n",
       "      <td>1564029816</td>\n",
       "      <td>246</td>\n",
       "    </tr>\n",
       "    <tr>\n",
       "      <th>1</th>\n",
       "      <td>MainScreenAppear</td>\n",
       "      <td>7416695313311560658</td>\n",
       "      <td>1564053102</td>\n",
       "      <td>246</td>\n",
       "    </tr>\n",
       "    <tr>\n",
       "      <th>2</th>\n",
       "      <td>PaymentScreenSuccessful</td>\n",
       "      <td>3518123091307005509</td>\n",
       "      <td>1564054127</td>\n",
       "      <td>248</td>\n",
       "    </tr>\n",
       "    <tr>\n",
       "      <th>3</th>\n",
       "      <td>CartScreenAppear</td>\n",
       "      <td>3518123091307005509</td>\n",
       "      <td>1564054127</td>\n",
       "      <td>248</td>\n",
       "    </tr>\n",
       "    <tr>\n",
       "      <th>4</th>\n",
       "      <td>PaymentScreenSuccessful</td>\n",
       "      <td>6217807653094995999</td>\n",
       "      <td>1564055322</td>\n",
       "      <td>248</td>\n",
       "    </tr>\n",
       "  </tbody>\n",
       "</table>\n",
       "</div>"
      ],
      "text/plain": [
       "                event_name              user_id   timestamp  experiment_group\n",
       "0         MainScreenAppear  4575588528974610257  1564029816               246\n",
       "1         MainScreenAppear  7416695313311560658  1564053102               246\n",
       "2  PaymentScreenSuccessful  3518123091307005509  1564054127               248\n",
       "3         CartScreenAppear  3518123091307005509  1564054127               248\n",
       "4  PaymentScreenSuccessful  6217807653094995999  1564055322               248"
      ]
     },
     "execution_count": 57,
     "metadata": {},
     "output_type": "execute_result"
    }
   ],
   "source": [
    "#Renombrar las columnas\n",
    "data_logs=data_logs.rename(mapper={'EventName':'event_name',\n",
    "                                   'DeviceIDHash':'user_id',\n",
    "                                   'EventTimestamp':'timestamp',\n",
    "                                   'ExpId':'experiment_group'}, axis=1)\n",
    "data_logs.head()"
   ]
  },
  {
   "cell_type": "code",
   "execution_count": 58,
   "metadata": {},
   "outputs": [
    {
     "data": {
      "text/html": [
       "<div>\n",
       "<style scoped>\n",
       "    .dataframe tbody tr th:only-of-type {\n",
       "        vertical-align: middle;\n",
       "    }\n",
       "\n",
       "    .dataframe tbody tr th {\n",
       "        vertical-align: top;\n",
       "    }\n",
       "\n",
       "    .dataframe thead th {\n",
       "        text-align: right;\n",
       "    }\n",
       "</style>\n",
       "<table border=\"1\" class=\"dataframe\">\n",
       "  <thead>\n",
       "    <tr style=\"text-align: right;\">\n",
       "      <th></th>\n",
       "      <th>event_name</th>\n",
       "      <th>user_id</th>\n",
       "      <th>timestamp</th>\n",
       "      <th>experiment_group</th>\n",
       "    </tr>\n",
       "  </thead>\n",
       "  <tbody>\n",
       "    <tr>\n",
       "      <th>0</th>\n",
       "      <td>MainScreenAppear</td>\n",
       "      <td>4575588528974610257</td>\n",
       "      <td>2019-07-25 04:43:36</td>\n",
       "      <td>246</td>\n",
       "    </tr>\n",
       "    <tr>\n",
       "      <th>1</th>\n",
       "      <td>MainScreenAppear</td>\n",
       "      <td>7416695313311560658</td>\n",
       "      <td>2019-07-25 11:11:42</td>\n",
       "      <td>246</td>\n",
       "    </tr>\n",
       "    <tr>\n",
       "      <th>2</th>\n",
       "      <td>PaymentScreenSuccessful</td>\n",
       "      <td>3518123091307005509</td>\n",
       "      <td>2019-07-25 11:28:47</td>\n",
       "      <td>248</td>\n",
       "    </tr>\n",
       "    <tr>\n",
       "      <th>3</th>\n",
       "      <td>CartScreenAppear</td>\n",
       "      <td>3518123091307005509</td>\n",
       "      <td>2019-07-25 11:28:47</td>\n",
       "      <td>248</td>\n",
       "    </tr>\n",
       "    <tr>\n",
       "      <th>4</th>\n",
       "      <td>PaymentScreenSuccessful</td>\n",
       "      <td>6217807653094995999</td>\n",
       "      <td>2019-07-25 11:48:42</td>\n",
       "      <td>248</td>\n",
       "    </tr>\n",
       "  </tbody>\n",
       "</table>\n",
       "</div>"
      ],
      "text/plain": [
       "                event_name              user_id           timestamp  \\\n",
       "0         MainScreenAppear  4575588528974610257 2019-07-25 04:43:36   \n",
       "1         MainScreenAppear  7416695313311560658 2019-07-25 11:11:42   \n",
       "2  PaymentScreenSuccessful  3518123091307005509 2019-07-25 11:28:47   \n",
       "3         CartScreenAppear  3518123091307005509 2019-07-25 11:28:47   \n",
       "4  PaymentScreenSuccessful  6217807653094995999 2019-07-25 11:48:42   \n",
       "\n",
       "   experiment_group  \n",
       "0               246  \n",
       "1               246  \n",
       "2               248  \n",
       "3               248  \n",
       "4               248  "
      ]
     },
     "execution_count": 58,
     "metadata": {},
     "output_type": "execute_result"
    }
   ],
   "source": [
    "#Cambiar los tipos de datos en la columna timestamp\n",
    "data_logs['timestamp']=pd.to_datetime(data_logs['timestamp'], unit='s')\n",
    "data_logs.head()"
   ]
  },
  {
   "cell_type": "code",
   "execution_count": 59,
   "metadata": {},
   "outputs": [
    {
     "data": {
      "text/html": [
       "<div>\n",
       "<style scoped>\n",
       "    .dataframe tbody tr th:only-of-type {\n",
       "        vertical-align: middle;\n",
       "    }\n",
       "\n",
       "    .dataframe tbody tr th {\n",
       "        vertical-align: top;\n",
       "    }\n",
       "\n",
       "    .dataframe thead th {\n",
       "        text-align: right;\n",
       "    }\n",
       "</style>\n",
       "<table border=\"1\" class=\"dataframe\">\n",
       "  <thead>\n",
       "    <tr style=\"text-align: right;\">\n",
       "      <th></th>\n",
       "      <th>event_name</th>\n",
       "      <th>user_id</th>\n",
       "      <th>timestamp</th>\n",
       "      <th>experiment_group</th>\n",
       "      <th>date</th>\n",
       "    </tr>\n",
       "  </thead>\n",
       "  <tbody>\n",
       "    <tr>\n",
       "      <th>0</th>\n",
       "      <td>MainScreenAppear</td>\n",
       "      <td>4575588528974610257</td>\n",
       "      <td>2019-07-25 04:43:36</td>\n",
       "      <td>246</td>\n",
       "      <td>2019-07-25</td>\n",
       "    </tr>\n",
       "    <tr>\n",
       "      <th>1</th>\n",
       "      <td>MainScreenAppear</td>\n",
       "      <td>7416695313311560658</td>\n",
       "      <td>2019-07-25 11:11:42</td>\n",
       "      <td>246</td>\n",
       "      <td>2019-07-25</td>\n",
       "    </tr>\n",
       "    <tr>\n",
       "      <th>2</th>\n",
       "      <td>PaymentScreenSuccessful</td>\n",
       "      <td>3518123091307005509</td>\n",
       "      <td>2019-07-25 11:28:47</td>\n",
       "      <td>248</td>\n",
       "      <td>2019-07-25</td>\n",
       "    </tr>\n",
       "    <tr>\n",
       "      <th>3</th>\n",
       "      <td>CartScreenAppear</td>\n",
       "      <td>3518123091307005509</td>\n",
       "      <td>2019-07-25 11:28:47</td>\n",
       "      <td>248</td>\n",
       "      <td>2019-07-25</td>\n",
       "    </tr>\n",
       "    <tr>\n",
       "      <th>4</th>\n",
       "      <td>PaymentScreenSuccessful</td>\n",
       "      <td>6217807653094995999</td>\n",
       "      <td>2019-07-25 11:48:42</td>\n",
       "      <td>248</td>\n",
       "      <td>2019-07-25</td>\n",
       "    </tr>\n",
       "    <tr>\n",
       "      <th>5</th>\n",
       "      <td>CartScreenAppear</td>\n",
       "      <td>6217807653094995999</td>\n",
       "      <td>2019-07-25 11:48:43</td>\n",
       "      <td>248</td>\n",
       "      <td>2019-07-25</td>\n",
       "    </tr>\n",
       "    <tr>\n",
       "      <th>6</th>\n",
       "      <td>OffersScreenAppear</td>\n",
       "      <td>8351860793733343758</td>\n",
       "      <td>2019-07-25 14:50:42</td>\n",
       "      <td>246</td>\n",
       "      <td>2019-07-25</td>\n",
       "    </tr>\n",
       "    <tr>\n",
       "      <th>7</th>\n",
       "      <td>MainScreenAppear</td>\n",
       "      <td>5682100281902512875</td>\n",
       "      <td>2019-07-25 20:14:37</td>\n",
       "      <td>246</td>\n",
       "      <td>2019-07-25</td>\n",
       "    </tr>\n",
       "    <tr>\n",
       "      <th>8</th>\n",
       "      <td>MainScreenAppear</td>\n",
       "      <td>1850981295691852772</td>\n",
       "      <td>2019-07-25 20:31:42</td>\n",
       "      <td>247</td>\n",
       "      <td>2019-07-25</td>\n",
       "    </tr>\n",
       "    <tr>\n",
       "      <th>9</th>\n",
       "      <td>MainScreenAppear</td>\n",
       "      <td>5407636962369102641</td>\n",
       "      <td>2019-07-26 03:35:12</td>\n",
       "      <td>246</td>\n",
       "      <td>2019-07-26</td>\n",
       "    </tr>\n",
       "    <tr>\n",
       "      <th>10</th>\n",
       "      <td>MainScreenAppear</td>\n",
       "      <td>948465712512390382</td>\n",
       "      <td>2019-07-26 05:33:34</td>\n",
       "      <td>247</td>\n",
       "      <td>2019-07-26</td>\n",
       "    </tr>\n",
       "    <tr>\n",
       "      <th>11</th>\n",
       "      <td>MainScreenAppear</td>\n",
       "      <td>2547684315586332355</td>\n",
       "      <td>2019-07-26 06:50:26</td>\n",
       "      <td>248</td>\n",
       "      <td>2019-07-26</td>\n",
       "    </tr>\n",
       "    <tr>\n",
       "      <th>12</th>\n",
       "      <td>MainScreenAppear</td>\n",
       "      <td>8885295911290764495</td>\n",
       "      <td>2019-07-26 06:54:45</td>\n",
       "      <td>248</td>\n",
       "      <td>2019-07-26</td>\n",
       "    </tr>\n",
       "    <tr>\n",
       "      <th>13</th>\n",
       "      <td>MainScreenAppear</td>\n",
       "      <td>2140904690380565988</td>\n",
       "      <td>2019-07-26 07:22:12</td>\n",
       "      <td>247</td>\n",
       "      <td>2019-07-26</td>\n",
       "    </tr>\n",
       "    <tr>\n",
       "      <th>14</th>\n",
       "      <td>MainScreenAppear</td>\n",
       "      <td>4444236400320272864</td>\n",
       "      <td>2019-07-26 10:06:00</td>\n",
       "      <td>246</td>\n",
       "      <td>2019-07-26</td>\n",
       "    </tr>\n",
       "    <tr>\n",
       "      <th>15</th>\n",
       "      <td>MainScreenAppear</td>\n",
       "      <td>8947220251154009657</td>\n",
       "      <td>2019-07-26 11:31:08</td>\n",
       "      <td>248</td>\n",
       "      <td>2019-07-26</td>\n",
       "    </tr>\n",
       "    <tr>\n",
       "      <th>16</th>\n",
       "      <td>MainScreenAppear</td>\n",
       "      <td>5839517684026830712</td>\n",
       "      <td>2019-07-26 11:43:41</td>\n",
       "      <td>247</td>\n",
       "      <td>2019-07-26</td>\n",
       "    </tr>\n",
       "    <tr>\n",
       "      <th>17</th>\n",
       "      <td>MainScreenAppear</td>\n",
       "      <td>7540130374989658208</td>\n",
       "      <td>2019-07-26 12:31:23</td>\n",
       "      <td>248</td>\n",
       "      <td>2019-07-26</td>\n",
       "    </tr>\n",
       "    <tr>\n",
       "      <th>18</th>\n",
       "      <td>CartScreenAppear</td>\n",
       "      <td>2575393697599976818</td>\n",
       "      <td>2019-07-26 13:49:05</td>\n",
       "      <td>247</td>\n",
       "      <td>2019-07-26</td>\n",
       "    </tr>\n",
       "    <tr>\n",
       "      <th>19</th>\n",
       "      <td>MainScreenAppear</td>\n",
       "      <td>4651149533106703820</td>\n",
       "      <td>2019-07-26 14:04:26</td>\n",
       "      <td>246</td>\n",
       "      <td>2019-07-26</td>\n",
       "    </tr>\n",
       "    <tr>\n",
       "      <th>20</th>\n",
       "      <td>OffersScreenAppear</td>\n",
       "      <td>4651149533106703820</td>\n",
       "      <td>2019-07-26 14:04:31</td>\n",
       "      <td>246</td>\n",
       "      <td>2019-07-26</td>\n",
       "    </tr>\n",
       "    <tr>\n",
       "      <th>21</th>\n",
       "      <td>CartScreenAppear</td>\n",
       "      <td>4651149533106703820</td>\n",
       "      <td>2019-07-26 14:04:37</td>\n",
       "      <td>246</td>\n",
       "      <td>2019-07-26</td>\n",
       "    </tr>\n",
       "    <tr>\n",
       "      <th>22</th>\n",
       "      <td>OffersScreenAppear</td>\n",
       "      <td>4651149533106703820</td>\n",
       "      <td>2019-07-26 14:04:54</td>\n",
       "      <td>246</td>\n",
       "      <td>2019-07-26</td>\n",
       "    </tr>\n",
       "    <tr>\n",
       "      <th>23</th>\n",
       "      <td>MainScreenAppear</td>\n",
       "      <td>8295497290010115455</td>\n",
       "      <td>2019-07-26 14:29:09</td>\n",
       "      <td>248</td>\n",
       "      <td>2019-07-26</td>\n",
       "    </tr>\n",
       "    <tr>\n",
       "      <th>24</th>\n",
       "      <td>MainScreenAppear</td>\n",
       "      <td>2467684065904615242</td>\n",
       "      <td>2019-07-26 15:32:13</td>\n",
       "      <td>247</td>\n",
       "      <td>2019-07-26</td>\n",
       "    </tr>\n",
       "    <tr>\n",
       "      <th>25</th>\n",
       "      <td>CartScreenAppear</td>\n",
       "      <td>5325250209390272889</td>\n",
       "      <td>2019-07-26 16:24:58</td>\n",
       "      <td>246</td>\n",
       "      <td>2019-07-26</td>\n",
       "    </tr>\n",
       "    <tr>\n",
       "      <th>26</th>\n",
       "      <td>OffersScreenAppear</td>\n",
       "      <td>2029140728621466572</td>\n",
       "      <td>2019-07-26 17:06:36</td>\n",
       "      <td>246</td>\n",
       "      <td>2019-07-26</td>\n",
       "    </tr>\n",
       "    <tr>\n",
       "      <th>27</th>\n",
       "      <td>CartScreenAppear</td>\n",
       "      <td>2029140728621466572</td>\n",
       "      <td>2019-07-26 17:06:41</td>\n",
       "      <td>246</td>\n",
       "      <td>2019-07-26</td>\n",
       "    </tr>\n",
       "    <tr>\n",
       "      <th>28</th>\n",
       "      <td>PaymentScreenSuccessful</td>\n",
       "      <td>2029140728621466572</td>\n",
       "      <td>2019-07-26 17:06:41</td>\n",
       "      <td>246</td>\n",
       "      <td>2019-07-26</td>\n",
       "    </tr>\n",
       "    <tr>\n",
       "      <th>29</th>\n",
       "      <td>Tutorial</td>\n",
       "      <td>6598157157289930061</td>\n",
       "      <td>2019-07-26 18:03:59</td>\n",
       "      <td>247</td>\n",
       "      <td>2019-07-26</td>\n",
       "    </tr>\n",
       "    <tr>\n",
       "      <th>30</th>\n",
       "      <td>Tutorial</td>\n",
       "      <td>6598157157289930061</td>\n",
       "      <td>2019-07-26 18:04:07</td>\n",
       "      <td>247</td>\n",
       "      <td>2019-07-26</td>\n",
       "    </tr>\n",
       "    <tr>\n",
       "      <th>31</th>\n",
       "      <td>OffersScreenAppear</td>\n",
       "      <td>4917023139263453733</td>\n",
       "      <td>2019-07-26 18:05:36</td>\n",
       "      <td>247</td>\n",
       "      <td>2019-07-26</td>\n",
       "    </tr>\n",
       "    <tr>\n",
       "      <th>32</th>\n",
       "      <td>MainScreenAppear</td>\n",
       "      <td>7746900626563870083</td>\n",
       "      <td>2019-07-26 18:20:46</td>\n",
       "      <td>248</td>\n",
       "      <td>2019-07-26</td>\n",
       "    </tr>\n",
       "    <tr>\n",
       "      <th>33</th>\n",
       "      <td>MainScreenAppear</td>\n",
       "      <td>6587858566581626601</td>\n",
       "      <td>2019-07-26 18:32:06</td>\n",
       "      <td>246</td>\n",
       "      <td>2019-07-26</td>\n",
       "    </tr>\n",
       "    <tr>\n",
       "      <th>34</th>\n",
       "      <td>MainScreenAppear</td>\n",
       "      <td>6587858566581626601</td>\n",
       "      <td>2019-07-26 18:32:14</td>\n",
       "      <td>246</td>\n",
       "      <td>2019-07-26</td>\n",
       "    </tr>\n",
       "    <tr>\n",
       "      <th>35</th>\n",
       "      <td>PaymentScreenSuccessful</td>\n",
       "      <td>746235405686708560</td>\n",
       "      <td>2019-07-26 19:44:26</td>\n",
       "      <td>248</td>\n",
       "      <td>2019-07-26</td>\n",
       "    </tr>\n",
       "    <tr>\n",
       "      <th>36</th>\n",
       "      <td>CartScreenAppear</td>\n",
       "      <td>746235405686708560</td>\n",
       "      <td>2019-07-26 19:44:26</td>\n",
       "      <td>248</td>\n",
       "      <td>2019-07-26</td>\n",
       "    </tr>\n",
       "    <tr>\n",
       "      <th>37</th>\n",
       "      <td>CartScreenAppear</td>\n",
       "      <td>6805714022805866600</td>\n",
       "      <td>2019-07-26 19:44:27</td>\n",
       "      <td>246</td>\n",
       "      <td>2019-07-26</td>\n",
       "    </tr>\n",
       "    <tr>\n",
       "      <th>38</th>\n",
       "      <td>PaymentScreenSuccessful</td>\n",
       "      <td>6805714022805866600</td>\n",
       "      <td>2019-07-26 19:44:27</td>\n",
       "      <td>246</td>\n",
       "      <td>2019-07-26</td>\n",
       "    </tr>\n",
       "    <tr>\n",
       "      <th>39</th>\n",
       "      <td>MainScreenAppear</td>\n",
       "      <td>4363366562103092326</td>\n",
       "      <td>2019-07-26 23:56:50</td>\n",
       "      <td>248</td>\n",
       "      <td>2019-07-26</td>\n",
       "    </tr>\n",
       "    <tr>\n",
       "      <th>40</th>\n",
       "      <td>MainScreenAppear</td>\n",
       "      <td>4856890444852090984</td>\n",
       "      <td>2019-07-27 04:15:28</td>\n",
       "      <td>246</td>\n",
       "      <td>2019-07-27</td>\n",
       "    </tr>\n",
       "    <tr>\n",
       "      <th>41</th>\n",
       "      <td>MainScreenAppear</td>\n",
       "      <td>2470999879924103731</td>\n",
       "      <td>2019-07-27 06:33:32</td>\n",
       "      <td>247</td>\n",
       "      <td>2019-07-27</td>\n",
       "    </tr>\n",
       "    <tr>\n",
       "      <th>42</th>\n",
       "      <td>PaymentScreenSuccessful</td>\n",
       "      <td>6075091495307260046</td>\n",
       "      <td>2019-07-27 06:41:05</td>\n",
       "      <td>246</td>\n",
       "      <td>2019-07-27</td>\n",
       "    </tr>\n",
       "    <tr>\n",
       "      <th>43</th>\n",
       "      <td>CartScreenAppear</td>\n",
       "      <td>6075091495307260046</td>\n",
       "      <td>2019-07-27 06:41:05</td>\n",
       "      <td>246</td>\n",
       "      <td>2019-07-27</td>\n",
       "    </tr>\n",
       "    <tr>\n",
       "      <th>44</th>\n",
       "      <td>MainScreenAppear</td>\n",
       "      <td>2040085853213296046</td>\n",
       "      <td>2019-07-27 06:54:28</td>\n",
       "      <td>248</td>\n",
       "      <td>2019-07-27</td>\n",
       "    </tr>\n",
       "    <tr>\n",
       "      <th>45</th>\n",
       "      <td>MainScreenAppear</td>\n",
       "      <td>3288659580761907806</td>\n",
       "      <td>2019-07-27 08:23:10</td>\n",
       "      <td>247</td>\n",
       "      <td>2019-07-27</td>\n",
       "    </tr>\n",
       "    <tr>\n",
       "      <th>46</th>\n",
       "      <td>OffersScreenAppear</td>\n",
       "      <td>2039979342104336040</td>\n",
       "      <td>2019-07-27 08:27:38</td>\n",
       "      <td>247</td>\n",
       "      <td>2019-07-27</td>\n",
       "    </tr>\n",
       "    <tr>\n",
       "      <th>47</th>\n",
       "      <td>MainScreenAppear</td>\n",
       "      <td>5638851536233149647</td>\n",
       "      <td>2019-07-27 08:28:20</td>\n",
       "      <td>248</td>\n",
       "      <td>2019-07-27</td>\n",
       "    </tr>\n",
       "    <tr>\n",
       "      <th>48</th>\n",
       "      <td>MainScreenAppear</td>\n",
       "      <td>4827775328614831155</td>\n",
       "      <td>2019-07-27 08:45:24</td>\n",
       "      <td>247</td>\n",
       "      <td>2019-07-27</td>\n",
       "    </tr>\n",
       "    <tr>\n",
       "      <th>49</th>\n",
       "      <td>MainScreenAppear</td>\n",
       "      <td>4827775328614831155</td>\n",
       "      <td>2019-07-27 08:45:25</td>\n",
       "      <td>247</td>\n",
       "      <td>2019-07-27</td>\n",
       "    </tr>\n",
       "  </tbody>\n",
       "</table>\n",
       "</div>"
      ],
      "text/plain": [
       "                 event_name              user_id           timestamp  \\\n",
       "0          MainScreenAppear  4575588528974610257 2019-07-25 04:43:36   \n",
       "1          MainScreenAppear  7416695313311560658 2019-07-25 11:11:42   \n",
       "2   PaymentScreenSuccessful  3518123091307005509 2019-07-25 11:28:47   \n",
       "3          CartScreenAppear  3518123091307005509 2019-07-25 11:28:47   \n",
       "4   PaymentScreenSuccessful  6217807653094995999 2019-07-25 11:48:42   \n",
       "5          CartScreenAppear  6217807653094995999 2019-07-25 11:48:43   \n",
       "6        OffersScreenAppear  8351860793733343758 2019-07-25 14:50:42   \n",
       "7          MainScreenAppear  5682100281902512875 2019-07-25 20:14:37   \n",
       "8          MainScreenAppear  1850981295691852772 2019-07-25 20:31:42   \n",
       "9          MainScreenAppear  5407636962369102641 2019-07-26 03:35:12   \n",
       "10         MainScreenAppear   948465712512390382 2019-07-26 05:33:34   \n",
       "11         MainScreenAppear  2547684315586332355 2019-07-26 06:50:26   \n",
       "12         MainScreenAppear  8885295911290764495 2019-07-26 06:54:45   \n",
       "13         MainScreenAppear  2140904690380565988 2019-07-26 07:22:12   \n",
       "14         MainScreenAppear  4444236400320272864 2019-07-26 10:06:00   \n",
       "15         MainScreenAppear  8947220251154009657 2019-07-26 11:31:08   \n",
       "16         MainScreenAppear  5839517684026830712 2019-07-26 11:43:41   \n",
       "17         MainScreenAppear  7540130374989658208 2019-07-26 12:31:23   \n",
       "18         CartScreenAppear  2575393697599976818 2019-07-26 13:49:05   \n",
       "19         MainScreenAppear  4651149533106703820 2019-07-26 14:04:26   \n",
       "20       OffersScreenAppear  4651149533106703820 2019-07-26 14:04:31   \n",
       "21         CartScreenAppear  4651149533106703820 2019-07-26 14:04:37   \n",
       "22       OffersScreenAppear  4651149533106703820 2019-07-26 14:04:54   \n",
       "23         MainScreenAppear  8295497290010115455 2019-07-26 14:29:09   \n",
       "24         MainScreenAppear  2467684065904615242 2019-07-26 15:32:13   \n",
       "25         CartScreenAppear  5325250209390272889 2019-07-26 16:24:58   \n",
       "26       OffersScreenAppear  2029140728621466572 2019-07-26 17:06:36   \n",
       "27         CartScreenAppear  2029140728621466572 2019-07-26 17:06:41   \n",
       "28  PaymentScreenSuccessful  2029140728621466572 2019-07-26 17:06:41   \n",
       "29                 Tutorial  6598157157289930061 2019-07-26 18:03:59   \n",
       "30                 Tutorial  6598157157289930061 2019-07-26 18:04:07   \n",
       "31       OffersScreenAppear  4917023139263453733 2019-07-26 18:05:36   \n",
       "32         MainScreenAppear  7746900626563870083 2019-07-26 18:20:46   \n",
       "33         MainScreenAppear  6587858566581626601 2019-07-26 18:32:06   \n",
       "34         MainScreenAppear  6587858566581626601 2019-07-26 18:32:14   \n",
       "35  PaymentScreenSuccessful   746235405686708560 2019-07-26 19:44:26   \n",
       "36         CartScreenAppear   746235405686708560 2019-07-26 19:44:26   \n",
       "37         CartScreenAppear  6805714022805866600 2019-07-26 19:44:27   \n",
       "38  PaymentScreenSuccessful  6805714022805866600 2019-07-26 19:44:27   \n",
       "39         MainScreenAppear  4363366562103092326 2019-07-26 23:56:50   \n",
       "40         MainScreenAppear  4856890444852090984 2019-07-27 04:15:28   \n",
       "41         MainScreenAppear  2470999879924103731 2019-07-27 06:33:32   \n",
       "42  PaymentScreenSuccessful  6075091495307260046 2019-07-27 06:41:05   \n",
       "43         CartScreenAppear  6075091495307260046 2019-07-27 06:41:05   \n",
       "44         MainScreenAppear  2040085853213296046 2019-07-27 06:54:28   \n",
       "45         MainScreenAppear  3288659580761907806 2019-07-27 08:23:10   \n",
       "46       OffersScreenAppear  2039979342104336040 2019-07-27 08:27:38   \n",
       "47         MainScreenAppear  5638851536233149647 2019-07-27 08:28:20   \n",
       "48         MainScreenAppear  4827775328614831155 2019-07-27 08:45:24   \n",
       "49         MainScreenAppear  4827775328614831155 2019-07-27 08:45:25   \n",
       "\n",
       "    experiment_group       date  \n",
       "0                246 2019-07-25  \n",
       "1                246 2019-07-25  \n",
       "2                248 2019-07-25  \n",
       "3                248 2019-07-25  \n",
       "4                248 2019-07-25  \n",
       "5                248 2019-07-25  \n",
       "6                246 2019-07-25  \n",
       "7                246 2019-07-25  \n",
       "8                247 2019-07-25  \n",
       "9                246 2019-07-26  \n",
       "10               247 2019-07-26  \n",
       "11               248 2019-07-26  \n",
       "12               248 2019-07-26  \n",
       "13               247 2019-07-26  \n",
       "14               246 2019-07-26  \n",
       "15               248 2019-07-26  \n",
       "16               247 2019-07-26  \n",
       "17               248 2019-07-26  \n",
       "18               247 2019-07-26  \n",
       "19               246 2019-07-26  \n",
       "20               246 2019-07-26  \n",
       "21               246 2019-07-26  \n",
       "22               246 2019-07-26  \n",
       "23               248 2019-07-26  \n",
       "24               247 2019-07-26  \n",
       "25               246 2019-07-26  \n",
       "26               246 2019-07-26  \n",
       "27               246 2019-07-26  \n",
       "28               246 2019-07-26  \n",
       "29               247 2019-07-26  \n",
       "30               247 2019-07-26  \n",
       "31               247 2019-07-26  \n",
       "32               248 2019-07-26  \n",
       "33               246 2019-07-26  \n",
       "34               246 2019-07-26  \n",
       "35               248 2019-07-26  \n",
       "36               248 2019-07-26  \n",
       "37               246 2019-07-26  \n",
       "38               246 2019-07-26  \n",
       "39               248 2019-07-26  \n",
       "40               246 2019-07-27  \n",
       "41               247 2019-07-27  \n",
       "42               246 2019-07-27  \n",
       "43               246 2019-07-27  \n",
       "44               248 2019-07-27  \n",
       "45               247 2019-07-27  \n",
       "46               247 2019-07-27  \n",
       "47               248 2019-07-27  \n",
       "48               247 2019-07-27  \n",
       "49               247 2019-07-27  "
      ]
     },
     "execution_count": 59,
     "metadata": {},
     "output_type": "execute_result"
    }
   ],
   "source": [
    "#Agregando la columna fecha al dataset\n",
    "data_logs['date']=data_logs['timestamp'].values.astype(dtype='datetime64[D]')\n",
    "data_logs.head(50)"
   ]
  },
  {
   "cell_type": "code",
   "execution_count": 60,
   "metadata": {},
   "outputs": [
    {
     "name": "stdout",
     "output_type": "stream",
     "text": [
      "<class 'pandas.core.frame.DataFrame'>\n",
      "RangeIndex: 244126 entries, 0 to 244125\n",
      "Data columns (total 5 columns):\n",
      " #   Column            Non-Null Count   Dtype         \n",
      "---  ------            --------------   -----         \n",
      " 0   event_name        244126 non-null  object        \n",
      " 1   user_id           244126 non-null  int64         \n",
      " 2   timestamp         244126 non-null  datetime64[ns]\n",
      " 3   experiment_group  244126 non-null  int64         \n",
      " 4   date              244126 non-null  datetime64[ns]\n",
      "dtypes: datetime64[ns](2), int64(2), object(1)\n",
      "memory usage: 9.3+ MB\n"
     ]
    }
   ],
   "source": [
    "data_logs.info()"
   ]
  },
  {
   "cell_type": "code",
   "execution_count": 61,
   "metadata": {},
   "outputs": [
    {
     "data": {
      "text/plain": [
       "413"
      ]
     },
     "execution_count": 61,
     "metadata": {},
     "output_type": "execute_result"
    }
   ],
   "source": [
    "#Buscando duplicados\n",
    "data_logs.duplicated().sum()"
   ]
  },
  {
   "cell_type": "code",
   "execution_count": 62,
   "metadata": {},
   "outputs": [
    {
     "data": {
      "text/plain": [
       "False    243713\n",
       "True        413\n",
       "dtype: int64"
      ]
     },
     "execution_count": 62,
     "metadata": {},
     "output_type": "execute_result"
    }
   ],
   "source": [
    "data_logs.duplicated().value_counts()"
   ]
  },
  {
   "cell_type": "markdown",
   "metadata": {},
   "source": [
    "Por el momento no se van a eliminar los duplicados porque pueden ser eventos iguales en fechas diferentes, en el transcurso del proyecto se tomará la desición dejarlos o eliminarlos"
   ]
  },
  {
   "cell_type": "markdown",
   "metadata": {},
   "source": [
    "### 2 Estudiar y comprobar los datos"
   ]
  },
  {
   "cell_type": "markdown",
   "metadata": {},
   "source": [
    "#### 2.1 ¿Cuántos eventos hay en los registros?"
   ]
  },
  {
   "cell_type": "code",
   "execution_count": 63,
   "metadata": {},
   "outputs": [
    {
     "data": {
      "text/plain": [
       "event_name\n",
       "CartScreenAppear            42731\n",
       "MainScreenAppear           119205\n",
       "OffersScreenAppear          46825\n",
       "PaymentScreenSuccessful     34313\n",
       "Tutorial                     1052\n",
       "Name: user_id, dtype: int64"
      ]
     },
     "execution_count": 63,
     "metadata": {},
     "output_type": "execute_result"
    }
   ],
   "source": [
    "data_logs.groupby('event_name')['user_id'].count()"
   ]
  },
  {
   "cell_type": "markdown",
   "metadata": {},
   "source": [
    "#### 2.2 ¿Cuántos usuarios hay en los registros?"
   ]
  },
  {
   "cell_type": "code",
   "execution_count": 64,
   "metadata": {},
   "outputs": [
    {
     "name": "stdout",
     "output_type": "stream",
     "text": [
      "Hay 7551 usuarios unicos\n"
     ]
    }
   ],
   "source": [
    "print(f'Hay {data_logs[\"user_id\"].nunique()} usuarios unicos')"
   ]
  },
  {
   "cell_type": "markdown",
   "metadata": {},
   "source": [
    "#### 2.3 ¿Cuál es el promedio de eventos por usuario?"
   ]
  },
  {
   "cell_type": "code",
   "execution_count": 65,
   "metadata": {},
   "outputs": [
    {
     "name": "stdout",
     "output_type": "stream",
     "text": [
      "Hay 32.33 eventos por usuario\n"
     ]
    }
   ],
   "source": [
    "print(f'Hay {round(len(data_logs)/data_logs[\"user_id\"].nunique(), 3)} eventos por usuario')"
   ]
  },
  {
   "cell_type": "markdown",
   "metadata": {},
   "source": [
    "#### 2.4 ¿Qué periodo de tiempo cubren los datos?"
   ]
  },
  {
   "cell_type": "code",
   "execution_count": 66,
   "metadata": {},
   "outputs": [
    {
     "name": "stdout",
     "output_type": "stream",
     "text": [
      "fecha mínima: 2019-07-25 00:00:00\n"
     ]
    }
   ],
   "source": [
    "print(f'fecha mínima: {data_logs[\"date\"].min()}')"
   ]
  },
  {
   "cell_type": "code",
   "execution_count": 67,
   "metadata": {},
   "outputs": [
    {
     "name": "stdout",
     "output_type": "stream",
     "text": [
      "fecha máxima: 2019-08-07 00:00:00\n"
     ]
    }
   ],
   "source": [
    "print(f'fecha máxima: {data_logs[\"date\"].max()}')"
   ]
  },
  {
   "cell_type": "markdown",
   "metadata": {},
   "source": [
    "Hay un rango de 13 días entre el 25-07-2019 y 07-08-2019"
   ]
  },
  {
   "cell_type": "code",
   "execution_count": 68,
   "metadata": {},
   "outputs": [
    {
     "name": "stderr",
     "output_type": "stream",
     "text": [
      "/tmp/ipykernel_124/2299816406.py:4: UserWarning:\n",
      "\n",
      "FixedFormatter should only be used together with FixedLocator\n",
      "\n"
     ]
    },
    {
     "data": {
      "image/png": "[encoded data removed]",
      "text/plain": [
       "<Figure size 504x360 with 1 Axes>"
      ]
     },
     "metadata": {
      "needs_background": "light"
     },
     "output_type": "display_data"
    }
   ],
   "source": [
    "#Histograma de fechas y horas\n",
    "f,ax=plt.subplots(figsize=(7,5))\n",
    "ax=sns.histplot(data_logs, x='date', bins=2)\n",
    "ax.set_xticklabels(ax.get_xticklabels(), rotation=45)\n",
    "plt.title('Histogram dates')\n",
    "plt.show()"
   ]
  },
  {
   "cell_type": "markdown",
   "metadata": {},
   "source": [
    "El histograma muestra que hay datos para todas las fechas dentro del rango que contiene el dataset, para las fechas del 25-07 al 31-07 hay muy pocos datos. A partir de esta última fecha hay un gran aumento de actividad en la aplicación.\n",
    "\n",
    "Basado en el histograma se filtraran los datos a partir de la fecha del punto de quiebre que es a patir del 01-08-2019."
   ]
  },
  {
   "cell_type": "code",
   "execution_count": 69,
   "metadata": {},
   "outputs": [
    {
     "data": {
      "text/html": [
       "<div>\n",
       "<style scoped>\n",
       "    .dataframe tbody tr th:only-of-type {\n",
       "        vertical-align: middle;\n",
       "    }\n",
       "\n",
       "    .dataframe tbody tr th {\n",
       "        vertical-align: top;\n",
       "    }\n",
       "\n",
       "    .dataframe thead th {\n",
       "        text-align: right;\n",
       "    }\n",
       "</style>\n",
       "<table border=\"1\" class=\"dataframe\">\n",
       "  <thead>\n",
       "    <tr style=\"text-align: right;\">\n",
       "      <th></th>\n",
       "      <th>event_name</th>\n",
       "      <th>user_id</th>\n",
       "      <th>timestamp</th>\n",
       "      <th>experiment_group</th>\n",
       "      <th>date</th>\n",
       "    </tr>\n",
       "  </thead>\n",
       "  <tbody>\n",
       "    <tr>\n",
       "      <th>2828</th>\n",
       "      <td>Tutorial</td>\n",
       "      <td>3737462046622621720</td>\n",
       "      <td>2019-08-01 00:07:28</td>\n",
       "      <td>246</td>\n",
       "      <td>2019-08-01</td>\n",
       "    </tr>\n",
       "    <tr>\n",
       "      <th>2829</th>\n",
       "      <td>MainScreenAppear</td>\n",
       "      <td>3737462046622621720</td>\n",
       "      <td>2019-08-01 00:08:00</td>\n",
       "      <td>246</td>\n",
       "      <td>2019-08-01</td>\n",
       "    </tr>\n",
       "    <tr>\n",
       "      <th>2830</th>\n",
       "      <td>MainScreenAppear</td>\n",
       "      <td>3737462046622621720</td>\n",
       "      <td>2019-08-01 00:08:55</td>\n",
       "      <td>246</td>\n",
       "      <td>2019-08-01</td>\n",
       "    </tr>\n",
       "    <tr>\n",
       "      <th>2831</th>\n",
       "      <td>OffersScreenAppear</td>\n",
       "      <td>3737462046622621720</td>\n",
       "      <td>2019-08-01 00:08:58</td>\n",
       "      <td>246</td>\n",
       "      <td>2019-08-01</td>\n",
       "    </tr>\n",
       "    <tr>\n",
       "      <th>2832</th>\n",
       "      <td>MainScreenAppear</td>\n",
       "      <td>1433840883824088890</td>\n",
       "      <td>2019-08-01 00:08:59</td>\n",
       "      <td>247</td>\n",
       "      <td>2019-08-01</td>\n",
       "    </tr>\n",
       "  </tbody>\n",
       "</table>\n",
       "</div>"
      ],
      "text/plain": [
       "              event_name              user_id           timestamp  \\\n",
       "2828            Tutorial  3737462046622621720 2019-08-01 00:07:28   \n",
       "2829    MainScreenAppear  3737462046622621720 2019-08-01 00:08:00   \n",
       "2830    MainScreenAppear  3737462046622621720 2019-08-01 00:08:55   \n",
       "2831  OffersScreenAppear  3737462046622621720 2019-08-01 00:08:58   \n",
       "2832    MainScreenAppear  1433840883824088890 2019-08-01 00:08:59   \n",
       "\n",
       "      experiment_group       date  \n",
       "2828               246 2019-08-01  \n",
       "2829               246 2019-08-01  \n",
       "2830               246 2019-08-01  \n",
       "2831               246 2019-08-01  \n",
       "2832               247 2019-08-01  "
      ]
     },
     "execution_count": 69,
     "metadata": {},
     "output_type": "execute_result"
    }
   ],
   "source": [
    "filtered_data=data_logs.loc[data_logs['date']>'2019-07-31']\n",
    "filtered_data.head()"
   ]
  },
  {
   "cell_type": "markdown",
   "metadata": {},
   "source": [
    "El dataset filtrado contiene los tres grupos de experimento"
   ]
  },
  {
   "cell_type": "code",
   "execution_count": 70,
   "metadata": {},
   "outputs": [
    {
     "name": "stdout",
     "output_type": "stream",
     "text": [
      "244126\n",
      "241298\n"
     ]
    }
   ],
   "source": [
    "#Comparación del numero de usarios perdidos entre el dataset original y el dataset filtrado\n",
    "print(data_logs['user_id'].count())\n",
    "print(filtered_data['user_id'].count())"
   ]
  },
  {
   "cell_type": "code",
   "execution_count": 71,
   "metadata": {},
   "outputs": [
    {
     "name": "stdout",
     "output_type": "stream",
     "text": [
      "% Usuarios que permanecen: 99.8\n",
      "% Usuarios eliminados:0.2\n"
     ]
    }
   ],
   "source": [
    "# Calculando cuanto usuarios se quedan y cuantos se pierden al filtrar el dataset\n",
    "print(f\"% Usuarios que permanecen: {100*round(filtered_data['user_id'].nunique()/data_logs['user_id'].nunique(), 3)}\")\n",
    "print(f\"% Usuarios eliminados:{100*round(1-(filtered_data['user_id'].nunique()/data_logs['user_id'].nunique()), 3)}\")"
   ]
  },
  {
   "cell_type": "markdown",
   "metadata": {},
   "source": [
    "#### 2.5 Confirmación de usuarios en los tres grupos experimentales."
   ]
  },
  {
   "cell_type": "code",
   "execution_count": 72,
   "metadata": {},
   "outputs": [
    {
     "data": {
      "text/plain": [
       "experiment_group\n",
       "246    2484\n",
       "247    2513\n",
       "248    2537\n",
       "Name: user_id, dtype: int64"
      ]
     },
     "execution_count": 72,
     "metadata": {},
     "output_type": "execute_result"
    }
   ],
   "source": [
    "filtered_data.groupby('experiment_group')['user_id'].nunique()"
   ]
  },
  {
   "cell_type": "markdown",
   "metadata": {},
   "source": [
    "### 3 Estudiar el embudo de eventos"
   ]
  },
  {
   "cell_type": "markdown",
   "metadata": {},
   "source": [
    "#### 3.1 Observar qué eventos hay en los registros y su frecuencia de suceso. Ordenados por frecuencia."
   ]
  },
  {
   "cell_type": "code",
   "execution_count": 73,
   "metadata": {},
   "outputs": [
    {
     "data": {
      "text/plain": [
       "event_name\n",
       "MainScreenAppear           117431\n",
       "OffersScreenAppear          46350\n",
       "CartScreenAppear            42365\n",
       "PaymentScreenSuccessful     34113\n",
       "Tutorial                     1039\n",
       "Name: user_id, dtype: int64"
      ]
     },
     "execution_count": 73,
     "metadata": {},
     "output_type": "execute_result"
    }
   ],
   "source": [
    "#Cantidad de usuarios que realizaron cada acción\n",
    "filtered_data.groupby('event_name')['user_id'].count().sort_values(ascending=False)"
   ]
  },
  {
   "cell_type": "markdown",
   "metadata": {},
   "source": [
    "#### 3.2 Encontrar la cantidad de usuarios que realizaron cada una de estas acciones. Ordena los eventos por el número de usuarios. Calcula la proporción de usuarios que realizaron la acción al menos una vez."
   ]
  },
  {
   "cell_type": "code",
   "execution_count": 74,
   "metadata": {},
   "outputs": [
    {
     "data": {
      "text/html": [
       "<div>\n",
       "<style scoped>\n",
       "    .dataframe tbody tr th:only-of-type {\n",
       "        vertical-align: middle;\n",
       "    }\n",
       "\n",
       "    .dataframe tbody tr th {\n",
       "        vertical-align: top;\n",
       "    }\n",
       "\n",
       "    .dataframe thead th {\n",
       "        text-align: right;\n",
       "    }\n",
       "</style>\n",
       "<table border=\"1\" class=\"dataframe\">\n",
       "  <thead>\n",
       "    <tr style=\"text-align: right;\">\n",
       "      <th>experiment_group</th>\n",
       "      <th>246</th>\n",
       "      <th>247</th>\n",
       "      <th>248</th>\n",
       "    </tr>\n",
       "    <tr>\n",
       "      <th>event_name</th>\n",
       "      <th></th>\n",
       "      <th></th>\n",
       "      <th></th>\n",
       "    </tr>\n",
       "  </thead>\n",
       "  <tbody>\n",
       "    <tr>\n",
       "      <th>MainScreenAppear</th>\n",
       "      <td>2450</td>\n",
       "      <td>2476</td>\n",
       "      <td>2493</td>\n",
       "    </tr>\n",
       "    <tr>\n",
       "      <th>OffersScreenAppear</th>\n",
       "      <td>1542</td>\n",
       "      <td>1520</td>\n",
       "      <td>1531</td>\n",
       "    </tr>\n",
       "    <tr>\n",
       "      <th>CartScreenAppear</th>\n",
       "      <td>1266</td>\n",
       "      <td>1238</td>\n",
       "      <td>1230</td>\n",
       "    </tr>\n",
       "    <tr>\n",
       "      <th>PaymentScreenSuccessful</th>\n",
       "      <td>1200</td>\n",
       "      <td>1158</td>\n",
       "      <td>1181</td>\n",
       "    </tr>\n",
       "    <tr>\n",
       "      <th>Tutorial</th>\n",
       "      <td>278</td>\n",
       "      <td>283</td>\n",
       "      <td>279</td>\n",
       "    </tr>\n",
       "  </tbody>\n",
       "</table>\n",
       "</div>"
      ],
      "text/plain": [
       "experiment_group          246   247   248\n",
       "event_name                               \n",
       "MainScreenAppear         2450  2476  2493\n",
       "OffersScreenAppear       1542  1520  1531\n",
       "CartScreenAppear         1266  1238  1230\n",
       "PaymentScreenSuccessful  1200  1158  1181\n",
       "Tutorial                  278   283   279"
      ]
     },
     "execution_count": 74,
     "metadata": {},
     "output_type": "execute_result"
    }
   ],
   "source": [
    "#Cantidad de usuarios que realizaron cada acción en cada uno de los grupos\n",
    "users_246=filtered_data.pivot_table(index='event_name', columns='experiment_group', \n",
    "                          values='user_id', aggfunc='nunique').sort_values(by=246, ascending=False) \n",
    "users_246"
   ]
  },
  {
   "cell_type": "markdown",
   "metadata": {},
   "source": [
    "#### 3.3 Orden en que ocurren los eventos "
   ]
  },
  {
   "cell_type": "markdown",
   "metadata": {},
   "source": [
    "main screen, offer screen, cart screen, payment screen. Tutorial no es parte de la secuencia ya que puede o no pasar por ese paso y no afecta el orden de los pasos para lograr hacer una compra."
   ]
  },
  {
   "cell_type": "markdown",
   "metadata": {},
   "source": [
    "#### 3.4 Trazar el embudo de eventos para encontrar la proporción de usuarios que pasan de una etapa a la siguiente. "
   ]
  },
  {
   "cell_type": "code",
   "execution_count": 75,
   "metadata": {},
   "outputs": [
    {
     "data": {
      "text/html": [
       "<div>\n",
       "<style scoped>\n",
       "    .dataframe tbody tr th:only-of-type {\n",
       "        vertical-align: middle;\n",
       "    }\n",
       "\n",
       "    .dataframe tbody tr th {\n",
       "        vertical-align: top;\n",
       "    }\n",
       "\n",
       "    .dataframe thead th {\n",
       "        text-align: right;\n",
       "    }\n",
       "</style>\n",
       "<table border=\"1\" class=\"dataframe\">\n",
       "  <thead>\n",
       "    <tr style=\"text-align: right;\">\n",
       "      <th>experiment_group</th>\n",
       "      <th>246</th>\n",
       "      <th>247</th>\n",
       "      <th>248</th>\n",
       "    </tr>\n",
       "    <tr>\n",
       "      <th>event_name</th>\n",
       "      <th></th>\n",
       "      <th></th>\n",
       "      <th></th>\n",
       "    </tr>\n",
       "  </thead>\n",
       "  <tbody>\n",
       "    <tr>\n",
       "      <th>MainScreenAppear</th>\n",
       "      <td>1.000000</td>\n",
       "      <td>1.000000</td>\n",
       "      <td>1.000000</td>\n",
       "    </tr>\n",
       "    <tr>\n",
       "      <th>OffersScreenAppear</th>\n",
       "      <td>0.629388</td>\n",
       "      <td>0.613893</td>\n",
       "      <td>0.614120</td>\n",
       "    </tr>\n",
       "    <tr>\n",
       "      <th>CartScreenAppear</th>\n",
       "      <td>0.516735</td>\n",
       "      <td>0.500000</td>\n",
       "      <td>0.493381</td>\n",
       "    </tr>\n",
       "    <tr>\n",
       "      <th>PaymentScreenSuccessful</th>\n",
       "      <td>0.489796</td>\n",
       "      <td>0.467690</td>\n",
       "      <td>0.473726</td>\n",
       "    </tr>\n",
       "    <tr>\n",
       "      <th>Tutorial</th>\n",
       "      <td>0.113469</td>\n",
       "      <td>0.114297</td>\n",
       "      <td>0.111913</td>\n",
       "    </tr>\n",
       "  </tbody>\n",
       "</table>\n",
       "</div>"
      ],
      "text/plain": [
       "experiment_group              246       247       248\n",
       "event_name                                           \n",
       "MainScreenAppear         1.000000  1.000000  1.000000\n",
       "OffersScreenAppear       0.629388  0.613893  0.614120\n",
       "CartScreenAppear         0.516735  0.500000  0.493381\n",
       "PaymentScreenSuccessful  0.489796  0.467690  0.473726\n",
       "Tutorial                 0.113469  0.114297  0.111913"
      ]
     },
     "execution_count": 75,
     "metadata": {},
     "output_type": "execute_result"
    }
   ],
   "source": [
    "proportion_by_event=(filtered_data\n",
    "     .pivot_table(index='event_name', \n",
    "                  columns='experiment_group',\n",
    "                  values='user_id', \n",
    "                  aggfunc='nunique')\n",
    "     .sort_values(by=246, ascending=False)\n",
    "     .transform(lambda x: x / x.iloc[0]))\n",
    "proportion_by_event"
   ]
  },
  {
   "cell_type": "code",
   "execution_count": 76,
   "metadata": {},
   "outputs": [],
   "source": [
    "#data / data.loc['MainScreenAppear']"
   ]
  },
  {
   "cell_type": "markdown",
   "metadata": {},
   "source": [
    "#### 3.5 ¿En qué etapa pierdes más usuarios?\n",
    "\n",
    "En la tabla anterior se puede observar que en la etapa de main screen a offer screen se pierden cerca del 38% de los usuarios, entre la offer screen y cart screen un 11% y entre cart screen y payment screen un 3%. Por lo que entre main screen y offer screen es la etapa en que más se pierden usuarios."
   ]
  },
  {
   "cell_type": "markdown",
   "metadata": {},
   "source": [
    "#### 3.6 ¿Qué porcentaje de usuarios hace todo el viaje desde su primer evento hasta el pago?"
   ]
  },
  {
   "cell_type": "code",
   "execution_count": 77,
   "metadata": {},
   "outputs": [
    {
     "data": {
      "text/plain": [
       "experiment_group\n",
       "246    0.489796\n",
       "247    0.467690\n",
       "248    0.473726\n",
       "dtype: float64"
      ]
     },
     "execution_count": 77,
     "metadata": {},
     "output_type": "execute_result"
    }
   ],
   "source": [
    "users_246.loc['PaymentScreenSuccessful']/users_246.loc['MainScreenAppear']"
   ]
  },
  {
   "cell_type": "markdown",
   "metadata": {},
   "source": [
    "Se observa que entre el 46% y el 48% de los usuarios hacen el recorrido completo"
   ]
  },
  {
   "cell_type": "markdown",
   "metadata": {},
   "source": [
    "#### 3.7 Grafico de embudo"
   ]
  },
  {
   "cell_type": "code",
   "execution_count": 78,
   "metadata": {},
   "outputs": [
    {
     "data": {
      "application/vnd.plotly.v1+json": {
       "config": {
        "plotlyServerURL": "https://plot.ly"
       },
       "data": [
        {
         "hovertemplate": "groups=246<br>percentage=%{x}<br>events=%{y}<br>values=%{text}<extra></extra>",
         "legendgroup": "246",
         "marker": {
          "color": "#636efa"
         },
         "name": "246",
         "orientation": "h",
         "showlegend": true,
         "text": [
          2450,
          1542,
          1266,
          1200
         ],
         "type": "funnel",
         "x": [
          100,
          62.93,
          51.67,
          48.97
         ],
         "xaxis": "x",
         "y": [
          "MainScreenAppear",
          "OffersScreenAppear",
          "CartScreenAppear",
          "PaymentScreenSuccessful"
         ],
         "yaxis": "y"
        },
        {
         "hovertemplate": "groups=247<br>percentage=%{x}<br>events=%{y}<br>values=%{text}<extra></extra>",
         "legendgroup": "247",
         "marker": {
          "color": "#EF553B"
         },
         "name": "247",
         "orientation": "h",
         "showlegend": true,
         "text": [
          2476,
          1520,
          1238,
          1158
         ],
         "type": "funnel",
         "x": [
          100,
          61.38,
          50,
          46.76
         ],
         "xaxis": "x",
         "y": [
          "MainScreenAppear",
          "OffersScreenAppear",
          "CartScreenAppear",
          "PaymentScreenSuccessful"
         ],
         "yaxis": "y"
        },
        {
         "hovertemplate": "groups=248<br>percentage=%{x}<br>events=%{y}<br>values=%{text}<extra></extra>",
         "legendgroup": "248",
         "marker": {
          "color": "#00cc96"
         },
         "name": "248",
         "orientation": "h",
         "showlegend": true,
         "text": [
          2493,
          1531,
          1230,
          1181
         ],
         "type": "funnel",
         "x": [
          100,
          61.41,
          49.33,
          47.37
         ],
         "xaxis": "x",
         "y": [
          "MainScreenAppear",
          "OffersScreenAppear",
          "CartScreenAppear",
          "PaymentScreenSuccessful"
         ],
         "yaxis": "y"
        }
       ],
       "layout": {
        "legend": {
         "title": {
          "text": "groups"
         },
         "tracegroupgap": 0
        },
        "margin": {
         "t": 60
        },
        "template": {
         "data": {
          "bar": [
           {
            "error_x": {
             "color": "#2a3f5f"
            },
            "error_y": {
             "color": "#2a3f5f"
            },
            "marker": {
             "line": {
              "color": "#E5ECF6",
              "width": 0.5
             },
             "pattern": {
              "fillmode": "overlay",
              "size": 10,
              "solidity": 0.2
             }
            },
            "type": "bar"
           }
          ],
          "barpolar": [
           {
            "marker": {
             "line": {
              "color": "#E5ECF6",
              "width": 0.5
             },
             "pattern": {
              "fillmode": "overlay",
              "size": 10,
              "solidity": 0.2
             }
            },
            "type": "barpolar"
           }
          ],
          "carpet": [
           {
            "aaxis": {
             "endlinecolor": "#2a3f5f",
             "gridcolor": "white",
             "linecolor": "white",
             "minorgridcolor": "white",
             "startlinecolor": "#2a3f5f"
            },
            "baxis": {
             "endlinecolor": "#2a3f5f",
             "gridcolor": "white",
             "linecolor": "white",
             "minorgridcolor": "white",
             "startlinecolor": "#2a3f5f"
            },
            "type": "carpet"
           }
          ],
          "choropleth": [
           {
            "colorbar": {
             "outlinewidth": 0,
             "ticks": ""
            },
            "type": "choropleth"
           }
          ],
          "contour": [
           {
            "colorbar": {
             "outlinewidth": 0,
             "ticks": ""
            },
            "colorscale": [
             [
              0,
              "#0d0887"
             ],
             [
              0.1111111111111111,
              "#46039f"
             ],
             [
              0.2222222222222222,
              "#7201a8"
             ],
             [
              0.3333333333333333,
              "#9c179e"
             ],
             [
              0.4444444444444444,
              "#bd3786"
             ],
             [
              0.5555555555555556,
              "#d8576b"
             ],
             [
              0.6666666666666666,
              "#ed7953"
             ],
             [
              0.7777777777777778,
              "#fb9f3a"
             ],
             [
              0.8888888888888888,
              "#fdca26"
             ],
             [
              1,
              "#f0f921"
             ]
            ],
            "type": "contour"
           }
          ],
          "contourcarpet": [
           {
            "colorbar": {
             "outlinewidth": 0,
             "ticks": ""
            },
            "type": "contourcarpet"
           }
          ],
          "heatmap": [
           {
            "colorbar": {
             "outlinewidth": 0,
             "ticks": ""
            },
            "colorscale": [
             [
              0,
              "#0d0887"
             ],
             [
              0.1111111111111111,
              "#46039f"
             ],
             [
              0.2222222222222222,
              "#7201a8"
             ],
             [
              0.3333333333333333,
              "#9c179e"
             ],
             [
              0.4444444444444444,
              "#bd3786"
             ],
             [
              0.5555555555555556,
              "#d8576b"
             ],
             [
              0.6666666666666666,
              "#ed7953"
             ],
             [
              0.7777777777777778,
              "#fb9f3a"
             ],
             [
              0.8888888888888888,
              "#fdca26"
             ],
             [
              1,
              "#f0f921"
             ]
            ],
            "type": "heatmap"
           }
          ],
          "heatmapgl": [
           {
            "colorbar": {
             "outlinewidth": 0,
             "ticks": ""
            },
            "colorscale": [
             [
              0,
              "#0d0887"
             ],
             [
              0.1111111111111111,
              "#46039f"
             ],
             [
              0.2222222222222222,
              "#7201a8"
             ],
             [
              0.3333333333333333,
              "#9c179e"
             ],
             [
              0.4444444444444444,
              "#bd3786"
             ],
             [
              0.5555555555555556,
              "#d8576b"
             ],
             [
              0.6666666666666666,
              "#ed7953"
             ],
             [
              0.7777777777777778,
              "#fb9f3a"
             ],
             [
              0.8888888888888888,
              "#fdca26"
             ],
             [
              1,
              "#f0f921"
             ]
            ],
            "type": "heatmapgl"
           }
          ],
          "histogram": [
           {
            "marker": {
             "pattern": {
              "fillmode": "overlay",
              "size": 10,
              "solidity": 0.2
             }
            },
            "type": "histogram"
           }
          ],
          "histogram2d": [
           {
            "colorbar": {
             "outlinewidth": 0,
             "ticks": ""
            },
            "colorscale": [
             [
              0,
              "#0d0887"
             ],
             [
              0.1111111111111111,
              "#46039f"
             ],
             [
              0.2222222222222222,
              "#7201a8"
             ],
             [
              0.3333333333333333,
              "#9c179e"
             ],
             [
              0.4444444444444444,
              "#bd3786"
             ],
             [
              0.5555555555555556,
              "#d8576b"
             ],
             [
              0.6666666666666666,
              "#ed7953"
             ],
             [
              0.7777777777777778,
              "#fb9f3a"
             ],
             [
              0.8888888888888888,
              "#fdca26"
             ],
             [
              1,
              "#f0f921"
             ]
            ],
            "type": "histogram2d"
           }
          ],
          "histogram2dcontour": [
           {
            "colorbar": {
             "outlinewidth": 0,
             "ticks": ""
            },
            "colorscale": [
             [
              0,
              "#0d0887"
             ],
             [
              0.1111111111111111,
              "#46039f"
             ],
             [
              0.2222222222222222,
              "#7201a8"
             ],
             [
              0.3333333333333333,
              "#9c179e"
             ],
             [
              0.4444444444444444,
              "#bd3786"
             ],
             [
              0.5555555555555556,
              "#d8576b"
             ],
             [
              0.6666666666666666,
              "#ed7953"
             ],
             [
              0.7777777777777778,
              "#fb9f3a"
             ],
             [
              0.8888888888888888,
              "#fdca26"
             ],
             [
              1,
              "#f0f921"
             ]
            ],
            "type": "histogram2dcontour"
           }
          ],
          "mesh3d": [
           {
            "colorbar": {
             "outlinewidth": 0,
             "ticks": ""
            },
            "type": "mesh3d"
           }
          ],
          "parcoords": [
           {
            "line": {
             "colorbar": {
              "outlinewidth": 0,
              "ticks": ""
             }
            },
            "type": "parcoords"
           }
          ],
          "pie": [
           {
            "automargin": true,
            "type": "pie"
           }
          ],
          "scatter": [
           {
            "marker": {
             "colorbar": {
              "outlinewidth": 0,
              "ticks": ""
             }
            },
            "type": "scatter"
           }
          ],
          "scatter3d": [
           {
            "line": {
             "colorbar": {
              "outlinewidth": 0,
              "ticks": ""
             }
            },
            "marker": {
             "colorbar": {
              "outlinewidth": 0,
              "ticks": ""
             }
            },
            "type": "scatter3d"
           }
          ],
          "scattercarpet": [
           {
            "marker": {
             "colorbar": {
              "outlinewidth": 0,
              "ticks": ""
             }
            },
            "type": "scattercarpet"
           }
          ],
          "scattergeo": [
           {
            "marker": {
             "colorbar": {
              "outlinewidth": 0,
              "ticks": ""
             }
            },
            "type": "scattergeo"
           }
          ],
          "scattergl": [
           {
            "marker": {
             "colorbar": {
              "outlinewidth": 0,
              "ticks": ""
             }
            },
            "type": "scattergl"
           }
          ],
          "scattermapbox": [
           {
            "marker": {
             "colorbar": {
              "outlinewidth": 0,
              "ticks": ""
             }
            },
            "type": "scattermapbox"
           }
          ],
          "scatterpolar": [
           {
            "marker": {
             "colorbar": {
              "outlinewidth": 0,
              "ticks": ""
             }
            },
            "type": "scatterpolar"
           }
          ],
          "scatterpolargl": [
           {
            "marker": {
             "colorbar": {
              "outlinewidth": 0,
              "ticks": ""
             }
            },
            "type": "scatterpolargl"
           }
          ],
          "scatterternary": [
           {
            "marker": {
             "colorbar": {
              "outlinewidth": 0,
              "ticks": ""
             }
            },
            "type": "scatterternary"
           }
          ],
          "surface": [
           {
            "colorbar": {
             "outlinewidth": 0,
             "ticks": ""
            },
            "colorscale": [
             [
              0,
              "#0d0887"
             ],
             [
              0.1111111111111111,
              "#46039f"
             ],
             [
              0.2222222222222222,
              "#7201a8"
             ],
             [
              0.3333333333333333,
              "#9c179e"
             ],
             [
              0.4444444444444444,
              "#bd3786"
             ],
             [
              0.5555555555555556,
              "#d8576b"
             ],
             [
              0.6666666666666666,
              "#ed7953"
             ],
             [
              0.7777777777777778,
              "#fb9f3a"
             ],
             [
              0.8888888888888888,
              "#fdca26"
             ],
             [
              1,
              "#f0f921"
             ]
            ],
            "type": "surface"
           }
          ],
          "table": [
           {
            "cells": {
             "fill": {
              "color": "#EBF0F8"
             },
             "line": {
              "color": "white"
             }
            },
            "header": {
             "fill": {
              "color": "#C8D4E3"
             },
             "line": {
              "color": "white"
             }
            },
            "type": "table"
           }
          ]
         },
         "layout": {
          "annotationdefaults": {
           "arrowcolor": "#2a3f5f",
           "arrowhead": 0,
           "arrowwidth": 1
          },
          "autotypenumbers": "strict",
          "coloraxis": {
           "colorbar": {
            "outlinewidth": 0,
            "ticks": ""
           }
          },
          "colorscale": {
           "diverging": [
            [
             0,
             "#8e0152"
            ],
            [
             0.1,
             "#c51b7d"
            ],
            [
             0.2,
             "#de77ae"
            ],
            [
             0.3,
             "#f1b6da"
            ],
            [
             0.4,
             "#fde0ef"
            ],
            [
             0.5,
             "#f7f7f7"
            ],
            [
             0.6,
             "#e6f5d0"
            ],
            [
             0.7,
             "#b8e186"
            ],
            [
             0.8,
             "#7fbc41"
            ],
            [
             0.9,
             "#4d9221"
            ],
            [
             1,
             "#276419"
            ]
           ],
           "sequential": [
            [
             0,
             "#0d0887"
            ],
            [
             0.1111111111111111,
             "#46039f"
            ],
            [
             0.2222222222222222,
             "#7201a8"
            ],
            [
             0.3333333333333333,
             "#9c179e"
            ],
            [
             0.4444444444444444,
             "#bd3786"
            ],
            [
             0.5555555555555556,
             "#d8576b"
            ],
            [
             0.6666666666666666,
             "#ed7953"
            ],
            [
             0.7777777777777778,
             "#fb9f3a"
            ],
            [
             0.8888888888888888,
             "#fdca26"
            ],
            [
             1,
             "#f0f921"
            ]
           ],
           "sequentialminus": [
            [
             0,
             "#0d0887"
            ],
            [
             0.1111111111111111,
             "#46039f"
            ],
            [
             0.2222222222222222,
             "#7201a8"
            ],
            [
             0.3333333333333333,
             "#9c179e"
            ],
            [
             0.4444444444444444,
             "#bd3786"
            ],
            [
             0.5555555555555556,
             "#d8576b"
            ],
            [
             0.6666666666666666,
             "#ed7953"
            ],
            [
             0.7777777777777778,
             "#fb9f3a"
            ],
            [
             0.8888888888888888,
             "#fdca26"
            ],
            [
             1,
             "#f0f921"
            ]
           ]
          },
          "colorway": [
           "#636efa",
           "#EF553B",
           "#00cc96",
           "#ab63fa",
           "#FFA15A",
           "#19d3f3",
           "#FF6692",
           "#B6E880",
           "#FF97FF",
           "#FECB52"
          ],
          "font": {
           "color": "#2a3f5f"
          },
          "geo": {
           "bgcolor": "white",
           "lakecolor": "white",
           "landcolor": "#E5ECF6",
           "showlakes": true,
           "showland": true,
           "subunitcolor": "white"
          },
          "hoverlabel": {
           "align": "left"
          },
          "hovermode": "closest",
          "mapbox": {
           "style": "light"
          },
          "paper_bgcolor": "white",
          "plot_bgcolor": "#E5ECF6",
          "polar": {
           "angularaxis": {
            "gridcolor": "white",
            "linecolor": "white",
            "ticks": ""
           },
           "bgcolor": "#E5ECF6",
           "radialaxis": {
            "gridcolor": "white",
            "linecolor": "white",
            "ticks": ""
           }
          },
          "scene": {
           "xaxis": {
            "backgroundcolor": "#E5ECF6",
            "gridcolor": "white",
            "gridwidth": 2,
            "linecolor": "white",
            "showbackground": true,
            "ticks": "",
            "zerolinecolor": "white"
           },
           "yaxis": {
            "backgroundcolor": "#E5ECF6",
            "gridcolor": "white",
            "gridwidth": 2,
            "linecolor": "white",
            "showbackground": true,
            "ticks": "",
            "zerolinecolor": "white"
           },
           "zaxis": {
            "backgroundcolor": "#E5ECF6",
            "gridcolor": "white",
            "gridwidth": 2,
            "linecolor": "white",
            "showbackground": true,
            "ticks": "",
            "zerolinecolor": "white"
           }
          },
          "shapedefaults": {
           "line": {
            "color": "#2a3f5f"
           }
          },
          "ternary": {
           "aaxis": {
            "gridcolor": "white",
            "linecolor": "white",
            "ticks": ""
           },
           "baxis": {
            "gridcolor": "white",
            "linecolor": "white",
            "ticks": ""
           },
           "bgcolor": "#E5ECF6",
           "caxis": {
            "gridcolor": "white",
            "linecolor": "white",
            "ticks": ""
           }
          },
          "title": {
           "x": 0.05
          },
          "xaxis": {
           "automargin": true,
           "gridcolor": "white",
           "linecolor": "white",
           "ticks": "",
           "title": {
            "standoff": 15
           },
           "zerolinecolor": "white",
           "zerolinewidth": 2
          },
          "yaxis": {
           "automargin": true,
           "gridcolor": "white",
           "linecolor": "white",
           "ticks": "",
           "title": {
            "standoff": 15
           },
           "zerolinecolor": "white",
           "zerolinewidth": 2
          }
         }
        },
        "xaxis": {
         "anchor": "y",
         "domain": [
          0,
          1
         ],
         "title": {
          "text": "percentage"
         }
        },
        "yaxis": {
         "anchor": "x",
         "domain": [
          0,
          1
         ],
         "title": {
          "text": "events"
         }
        }
       }
      },
      "text/html": [
       "<div>                            <div id=\"3618c609-6285-4bd7-8ff0-a6da209db460\" class=\"plotly-graph-div\" style=\"height:525px; width:100%;\"></div>            <script type=\"text/javascript\">                require([\"plotly\"], function(Plotly) {                    window.PLOTLYENV=window.PLOTLYENV || {};                                    if (document.getElementById(\"3618c609-6285-4bd7-8ff0-a6da209db460\")) {                    Plotly.newPlot(                        \"3618c609-6285-4bd7-8ff0-a6da209db460\",                        [{\"hovertemplate\":\"groups=246<br>percentage=%{x}<br>events=%{y}<br>values=%{text}<extra></extra>\",\"legendgroup\":\"246\",\"marker\":{\"color\":\"#636efa\"},\"name\":\"246\",\"orientation\":\"h\",\"showlegend\":true,\"text\":[2450.0,1542.0,1266.0,1200.0],\"x\":[100.0,62.93,51.67,48.97],\"xaxis\":\"x\",\"y\":[\"MainScreenAppear\",\"OffersScreenAppear\",\"CartScreenAppear\",\"PaymentScreenSuccessful\"],\"yaxis\":\"y\",\"type\":\"funnel\"},{\"hovertemplate\":\"groups=247<br>percentage=%{x}<br>events=%{y}<br>values=%{text}<extra></extra>\",\"legendgroup\":\"247\",\"marker\":{\"color\":\"#EF553B\"},\"name\":\"247\",\"orientation\":\"h\",\"showlegend\":true,\"text\":[2476.0,1520.0,1238.0,1158.0],\"x\":[100.0,61.38,50.0,46.76],\"xaxis\":\"x\",\"y\":[\"MainScreenAppear\",\"OffersScreenAppear\",\"CartScreenAppear\",\"PaymentScreenSuccessful\"],\"yaxis\":\"y\",\"type\":\"funnel\"},{\"hovertemplate\":\"groups=248<br>percentage=%{x}<br>events=%{y}<br>values=%{text}<extra></extra>\",\"legendgroup\":\"248\",\"marker\":{\"color\":\"#00cc96\"},\"name\":\"248\",\"orientation\":\"h\",\"showlegend\":true,\"text\":[2493.0,1531.0,1230.0,1181.0],\"x\":[100.0,61.41,49.33,47.37],\"xaxis\":\"x\",\"y\":[\"MainScreenAppear\",\"OffersScreenAppear\",\"CartScreenAppear\",\"PaymentScreenSuccessful\"],\"yaxis\":\"y\",\"type\":\"funnel\"}],                        {\"template\":{\"data\":{\"bar\":[{\"error_x\":{\"color\":\"#2a3f5f\"},\"error_y\":{\"color\":\"#2a3f5f\"},\"marker\":{\"line\":{\"color\":\"#E5ECF6\",\"width\":0.5},\"pattern\":{\"fillmode\":\"overlay\",\"size\":10,\"solidity\":0.2}},\"type\":\"bar\"}],\"barpolar\":[{\"marker\":{\"line\":{\"color\":\"#E5ECF6\",\"width\":0.5},\"pattern\":{\"fillmode\":\"overlay\",\"size\":10,\"solidity\":0.2}},\"type\":\"barpolar\"}],\"carpet\":[{\"aaxis\":{\"endlinecolor\":\"#2a3f5f\",\"gridcolor\":\"white\",\"linecolor\":\"white\",\"minorgridcolor\":\"white\",\"startlinecolor\":\"#2a3f5f\"},\"baxis\":{\"endlinecolor\":\"#2a3f5f\",\"gridcolor\":\"white\",\"linecolor\":\"white\",\"minorgridcolor\":\"white\",\"startlinecolor\":\"#2a3f5f\"},\"type\":\"carpet\"}],\"choropleth\":[{\"colorbar\":{\"outlinewidth\":0,\"ticks\":\"\"},\"type\":\"choropleth\"}],\"contour\":[{\"colorbar\":{\"outlinewidth\":0,\"ticks\":\"\"},\"colorscale\":[[0.0,\"#0d0887\"],[0.1111111111111111,\"#46039f\"],[0.2222222222222222,\"#7201a8\"],[0.3333333333333333,\"#9c179e\"],[0.4444444444444444,\"#bd3786\"],[0.5555555555555556,\"#d8576b\"],[0.6666666666666666,\"#ed7953\"],[0.7777777777777778,\"#fb9f3a\"],[0.8888888888888888,\"#fdca26\"],[1.0,\"#f0f921\"]],\"type\":\"contour\"}],\"contourcarpet\":[{\"colorbar\":{\"outlinewidth\":0,\"ticks\":\"\"},\"type\":\"contourcarpet\"}],\"heatmap\":[{\"colorbar\":{\"outlinewidth\":0,\"ticks\":\"\"},\"colorscale\":[[0.0,\"#0d0887\"],[0.1111111111111111,\"#46039f\"],[0.2222222222222222,\"#7201a8\"],[0.3333333333333333,\"#9c179e\"],[0.4444444444444444,\"#bd3786\"],[0.5555555555555556,\"#d8576b\"],[0.6666666666666666,\"#ed7953\"],[0.7777777777777778,\"#fb9f3a\"],[0.8888888888888888,\"#fdca26\"],[1.0,\"#f0f921\"]],\"type\":\"heatmap\"}],\"heatmapgl\":[{\"colorbar\":{\"outlinewidth\":0,\"ticks\":\"\"},\"colorscale\":[[0.0,\"#0d0887\"],[0.1111111111111111,\"#46039f\"],[0.2222222222222222,\"#7201a8\"],[0.3333333333333333,\"#9c179e\"],[0.4444444444444444,\"#bd3786\"],[0.5555555555555556,\"#d8576b\"],[0.6666666666666666,\"#ed7953\"],[0.7777777777777778,\"#fb9f3a\"],[0.8888888888888888,\"#fdca26\"],[1.0,\"#f0f921\"]],\"type\":\"heatmapgl\"}],\"histogram\":[{\"marker\":{\"pattern\":{\"fillmode\":\"overlay\",\"size\":10,\"solidity\":0.2}},\"type\":\"histogram\"}],\"histogram2d\":[{\"colorbar\":{\"outlinewidth\":0,\"ticks\":\"\"},\"colorscale\":[[0.0,\"#0d0887\"],[0.1111111111111111,\"#46039f\"],[0.2222222222222222,\"#7201a8\"],[0.3333333333333333,\"#9c179e\"],[0.4444444444444444,\"#bd3786\"],[0.5555555555555556,\"#d8576b\"],[0.6666666666666666,\"#ed7953\"],[0.7777777777777778,\"#fb9f3a\"],[0.8888888888888888,\"#fdca26\"],[1.0,\"#f0f921\"]],\"type\":\"histogram2d\"}],\"histogram2dcontour\":[{\"colorbar\":{\"outlinewidth\":0,\"ticks\":\"\"},\"colorscale\":[[0.0,\"#0d0887\"],[0.1111111111111111,\"#46039f\"],[0.2222222222222222,\"#7201a8\"],[0.3333333333333333,\"#9c179e\"],[0.4444444444444444,\"#bd3786\"],[0.5555555555555556,\"#d8576b\"],[0.6666666666666666,\"#ed7953\"],[0.7777777777777778,\"#fb9f3a\"],[0.8888888888888888,\"#fdca26\"],[1.0,\"#f0f921\"]],\"type\":\"histogram2dcontour\"}],\"mesh3d\":[{\"colorbar\":{\"outlinewidth\":0,\"ticks\":\"\"},\"type\":\"mesh3d\"}],\"parcoords\":[{\"line\":{\"colorbar\":{\"outlinewidth\":0,\"ticks\":\"\"}},\"type\":\"parcoords\"}],\"pie\":[{\"automargin\":true,\"type\":\"pie\"}],\"scatter\":[{\"marker\":{\"colorbar\":{\"outlinewidth\":0,\"ticks\":\"\"}},\"type\":\"scatter\"}],\"scatter3d\":[{\"line\":{\"colorbar\":{\"outlinewidth\":0,\"ticks\":\"\"}},\"marker\":{\"colorbar\":{\"outlinewidth\":0,\"ticks\":\"\"}},\"type\":\"scatter3d\"}],\"scattercarpet\":[{\"marker\":{\"colorbar\":{\"outlinewidth\":0,\"ticks\":\"\"}},\"type\":\"scattercarpet\"}],\"scattergeo\":[{\"marker\":{\"colorbar\":{\"outlinewidth\":0,\"ticks\":\"\"}},\"type\":\"scattergeo\"}],\"scattergl\":[{\"marker\":{\"colorbar\":{\"outlinewidth\":0,\"ticks\":\"\"}},\"type\":\"scattergl\"}],\"scattermapbox\":[{\"marker\":{\"colorbar\":{\"outlinewidth\":0,\"ticks\":\"\"}},\"type\":\"scattermapbox\"}],\"scatterpolar\":[{\"marker\":{\"colorbar\":{\"outlinewidth\":0,\"ticks\":\"\"}},\"type\":\"scatterpolar\"}],\"scatterpolargl\":[{\"marker\":{\"colorbar\":{\"outlinewidth\":0,\"ticks\":\"\"}},\"type\":\"scatterpolargl\"}],\"scatterternary\":[{\"marker\":{\"colorbar\":{\"outlinewidth\":0,\"ticks\":\"\"}},\"type\":\"scatterternary\"}],\"surface\":[{\"colorbar\":{\"outlinewidth\":0,\"ticks\":\"\"},\"colorscale\":[[0.0,\"#0d0887\"],[0.1111111111111111,\"#46039f\"],[0.2222222222222222,\"#7201a8\"],[0.3333333333333333,\"#9c179e\"],[0.4444444444444444,\"#bd3786\"],[0.5555555555555556,\"#d8576b\"],[0.6666666666666666,\"#ed7953\"],[0.7777777777777778,\"#fb9f3a\"],[0.8888888888888888,\"#fdca26\"],[1.0,\"#f0f921\"]],\"type\":\"surface\"}],\"table\":[{\"cells\":{\"fill\":{\"color\":\"#EBF0F8\"},\"line\":{\"color\":\"white\"}},\"header\":{\"fill\":{\"color\":\"#C8D4E3\"},\"line\":{\"color\":\"white\"}},\"type\":\"table\"}]},\"layout\":{\"annotationdefaults\":{\"arrowcolor\":\"#2a3f5f\",\"arrowhead\":0,\"arrowwidth\":1},\"autotypenumbers\":\"strict\",\"coloraxis\":{\"colorbar\":{\"outlinewidth\":0,\"ticks\":\"\"}},\"colorscale\":{\"diverging\":[[0,\"#8e0152\"],[0.1,\"#c51b7d\"],[0.2,\"#de77ae\"],[0.3,\"#f1b6da\"],[0.4,\"#fde0ef\"],[0.5,\"#f7f7f7\"],[0.6,\"#e6f5d0\"],[0.7,\"#b8e186\"],[0.8,\"#7fbc41\"],[0.9,\"#4d9221\"],[1,\"#276419\"]],\"sequential\":[[0.0,\"#0d0887\"],[0.1111111111111111,\"#46039f\"],[0.2222222222222222,\"#7201a8\"],[0.3333333333333333,\"#9c179e\"],[0.4444444444444444,\"#bd3786\"],[0.5555555555555556,\"#d8576b\"],[0.6666666666666666,\"#ed7953\"],[0.7777777777777778,\"#fb9f3a\"],[0.8888888888888888,\"#fdca26\"],[1.0,\"#f0f921\"]],\"sequentialminus\":[[0.0,\"#0d0887\"],[0.1111111111111111,\"#46039f\"],[0.2222222222222222,\"#7201a8\"],[0.3333333333333333,\"#9c179e\"],[0.4444444444444444,\"#bd3786\"],[0.5555555555555556,\"#d8576b\"],[0.6666666666666666,\"#ed7953\"],[0.7777777777777778,\"#fb9f3a\"],[0.8888888888888888,\"#fdca26\"],[1.0,\"#f0f921\"]]},\"colorway\":[\"#636efa\",\"#EF553B\",\"#00cc96\",\"#ab63fa\",\"#FFA15A\",\"#19d3f3\",\"#FF6692\",\"#B6E880\",\"#FF97FF\",\"#FECB52\"],\"font\":{\"color\":\"#2a3f5f\"},\"geo\":{\"bgcolor\":\"white\",\"lakecolor\":\"white\",\"landcolor\":\"#E5ECF6\",\"showlakes\":true,\"showland\":true,\"subunitcolor\":\"white\"},\"hoverlabel\":{\"align\":\"left\"},\"hovermode\":\"closest\",\"mapbox\":{\"style\":\"light\"},\"paper_bgcolor\":\"white\",\"plot_bgcolor\":\"#E5ECF6\",\"polar\":{\"angularaxis\":{\"gridcolor\":\"white\",\"linecolor\":\"white\",\"ticks\":\"\"},\"bgcolor\":\"#E5ECF6\",\"radialaxis\":{\"gridcolor\":\"white\",\"linecolor\":\"white\",\"ticks\":\"\"}},\"scene\":{\"xaxis\":{\"backgroundcolor\":\"#E5ECF6\",\"gridcolor\":\"white\",\"gridwidth\":2,\"linecolor\":\"white\",\"showbackground\":true,\"ticks\":\"\",\"zerolinecolor\":\"white\"},\"yaxis\":{\"backgroundcolor\":\"#E5ECF6\",\"gridcolor\":\"white\",\"gridwidth\":2,\"linecolor\":\"white\",\"showbackground\":true,\"ticks\":\"\",\"zerolinecolor\":\"white\"},\"zaxis\":{\"backgroundcolor\":\"#E5ECF6\",\"gridcolor\":\"white\",\"gridwidth\":2,\"linecolor\":\"white\",\"showbackground\":true,\"ticks\":\"\",\"zerolinecolor\":\"white\"}},\"shapedefaults\":{\"line\":{\"color\":\"#2a3f5f\"}},\"ternary\":{\"aaxis\":{\"gridcolor\":\"white\",\"linecolor\":\"white\",\"ticks\":\"\"},\"baxis\":{\"gridcolor\":\"white\",\"linecolor\":\"white\",\"ticks\":\"\"},\"bgcolor\":\"#E5ECF6\",\"caxis\":{\"gridcolor\":\"white\",\"linecolor\":\"white\",\"ticks\":\"\"}},\"title\":{\"x\":0.05},\"xaxis\":{\"automargin\":true,\"gridcolor\":\"white\",\"linecolor\":\"white\",\"ticks\":\"\",\"title\":{\"standoff\":15},\"zerolinecolor\":\"white\",\"zerolinewidth\":2},\"yaxis\":{\"automargin\":true,\"gridcolor\":\"white\",\"linecolor\":\"white\",\"ticks\":\"\",\"title\":{\"standoff\":15},\"zerolinecolor\":\"white\",\"zerolinewidth\":2}}},\"xaxis\":{\"anchor\":\"y\",\"domain\":[0.0,1.0],\"title\":{\"text\":\"percentage\"}},\"yaxis\":{\"anchor\":\"x\",\"domain\":[0.0,1.0],\"title\":{\"text\":\"events\"}},\"legend\":{\"title\":{\"text\":\"groups\"},\"tracegroupgap\":0},\"margin\":{\"t\":60}},                        {\"responsive\": true}                    ).then(function(){\n",
       "                            \n",
       "var gd = document.getElementById('3618c609-6285-4bd7-8ff0-a6da209db460');\n",
       "var x = new MutationObserver(function (mutations, observer) {{\n",
       "        var display = window.getComputedStyle(gd).display;\n",
       "        if (!display || display === 'none') {{\n",
       "            console.log([gd, 'removed!']);\n",
       "            Plotly.purge(gd);\n",
       "            observer.disconnect();\n",
       "        }}\n",
       "}});\n",
       "\n",
       "// Listen for the removal of the full notebook cells\n",
       "var notebookContainer = gd.closest('#notebook-container');\n",
       "if (notebookContainer) {{\n",
       "    x.observe(notebookContainer, {childList: true});\n",
       "}}\n",
       "\n",
       "// Listen for the clearing of the current output cell\n",
       "var outputEl = gd.closest('.output');\n",
       "if (outputEl) {{\n",
       "    x.observe(outputEl, {childList: true});\n",
       "}}\n",
       "\n",
       "                        })                };                });            </script>        </div>"
      ]
     },
     "metadata": {},
     "output_type": "display_data"
    }
   ],
   "source": [
    "df = pd.DataFrame(dict(\n",
    "    events = ['MainScreenAppear', 'OffersScreenAppear', 'CartScreenAppear', 'PaymentScreenSuccessful',\n",
    "             'MainScreenAppear', 'OffersScreenAppear', 'CartScreenAppear', 'PaymentScreenSuccessful',\n",
    "            'MainScreenAppear', 'OffersScreenAppear', 'CartScreenAppear', 'PaymentScreenSuccessful'],\n",
    "    percentage = [100, 62.93, 51.67, 48.97,\n",
    "                  100, 61.38, 50.00, 46.76,\n",
    "                 100, 61.41, 49.33, 47.37],\n",
    "    values = [2450, 1542, 1266, 1200,\n",
    "            2476, 1520, 1238, 1158,\n",
    "            2493, 1531, 1230, 1181],\n",
    "    groups = ['246', '246', '246', '246',\n",
    "                '247', '247', '247', '247',\n",
    "            '248', '248', '248', '248']))\n",
    "\n",
    "fig = px.funnel(df, x = 'percentage', y = 'events', text='values', color = 'groups')\n",
    "\n",
    "fig.show()"
   ]
  },
  {
   "cell_type": "markdown",
   "metadata": {},
   "source": [
    "### 4 Estudio de resultados del experimento\n"
   ]
  },
  {
   "cell_type": "markdown",
   "metadata": {},
   "source": [
    "#### 4.1 ¿Cuántos usuarios hay en cada grupo?"
   ]
  },
  {
   "cell_type": "code",
   "execution_count": 79,
   "metadata": {},
   "outputs": [
    {
     "data": {
      "text/plain": [
       "248    84726\n",
       "246    79425\n",
       "247    77147\n",
       "Name: experiment_group, dtype: int64"
      ]
     },
     "execution_count": 79,
     "metadata": {},
     "output_type": "execute_result"
    }
   ],
   "source": [
    "#Cálculo de número de usuarios general en cada uno de los grupos\n",
    "filtered_data['experiment_group'].value_counts()"
   ]
  },
  {
   "cell_type": "code",
   "execution_count": 80,
   "metadata": {},
   "outputs": [
    {
     "data": {
      "text/plain": [
       "experiment_group\n",
       "246    2484\n",
       "247    2513\n",
       "248    2537\n",
       "Name: user_id, dtype: int64"
      ]
     },
     "execution_count": 80,
     "metadata": {},
     "output_type": "execute_result"
    }
   ],
   "source": [
    "#Cálculo de número de usuarios unicos en cada uno de los grupos\n",
    "filtered_data.groupby('experiment_group')['user_id'].nunique()"
   ]
  },
  {
   "cell_type": "markdown",
   "metadata": {},
   "source": [
    "El número de usuarios es muy parejo para los tres grupos, los grupos 246 y 247 son grupos de control, el grupo 248 es el grupo de prueba."
   ]
  },
  {
   "cell_type": "markdown",
   "metadata": {},
   "source": [
    "#### 4.2 Observar si hay una diferencia estadísticamente significativa entre los grupos de control 246 y 247"
   ]
  },
  {
   "cell_type": "markdown",
   "metadata": {},
   "source": [
    "Hipótesis nula: No existe diferencia estadística entre los grupos\n",
    "\n",
    "Hipótesis alternativa: Existe diferencia estadística entre los grupos "
   ]
  },
  {
   "cell_type": "code",
   "execution_count": 81,
   "metadata": {},
   "outputs": [
    {
     "data": {
      "text/html": [
       "<div>\n",
       "<style scoped>\n",
       "    .dataframe tbody tr th:only-of-type {\n",
       "        vertical-align: middle;\n",
       "    }\n",
       "\n",
       "    .dataframe tbody tr th {\n",
       "        vertical-align: top;\n",
       "    }\n",
       "\n",
       "    .dataframe thead th {\n",
       "        text-align: right;\n",
       "    }\n",
       "</style>\n",
       "<table border=\"1\" class=\"dataframe\">\n",
       "  <thead>\n",
       "    <tr style=\"text-align: right;\">\n",
       "      <th>experiment_group</th>\n",
       "      <th>246</th>\n",
       "      <th>247</th>\n",
       "      <th>248</th>\n",
       "      <th>_246_247</th>\n",
       "    </tr>\n",
       "    <tr>\n",
       "      <th>event_name</th>\n",
       "      <th></th>\n",
       "      <th></th>\n",
       "      <th></th>\n",
       "      <th></th>\n",
       "    </tr>\n",
       "  </thead>\n",
       "  <tbody>\n",
       "    <tr>\n",
       "      <th>MainScreenAppear</th>\n",
       "      <td>2450</td>\n",
       "      <td>2476</td>\n",
       "      <td>2493</td>\n",
       "      <td>4926</td>\n",
       "    </tr>\n",
       "    <tr>\n",
       "      <th>OffersScreenAppear</th>\n",
       "      <td>1542</td>\n",
       "      <td>1520</td>\n",
       "      <td>1531</td>\n",
       "      <td>3062</td>\n",
       "    </tr>\n",
       "    <tr>\n",
       "      <th>CartScreenAppear</th>\n",
       "      <td>1266</td>\n",
       "      <td>1238</td>\n",
       "      <td>1230</td>\n",
       "      <td>2504</td>\n",
       "    </tr>\n",
       "    <tr>\n",
       "      <th>PaymentScreenSuccessful</th>\n",
       "      <td>1200</td>\n",
       "      <td>1158</td>\n",
       "      <td>1181</td>\n",
       "      <td>2358</td>\n",
       "    </tr>\n",
       "  </tbody>\n",
       "</table>\n",
       "</div>"
      ],
      "text/plain": [
       "experiment_group          246   247   248  _246_247\n",
       "event_name                                         \n",
       "MainScreenAppear         2450  2476  2493      4926\n",
       "OffersScreenAppear       1542  1520  1531      3062\n",
       "CartScreenAppear         1266  1238  1230      2504\n",
       "PaymentScreenSuccessful  1200  1158  1181      2358"
      ]
     },
     "execution_count": 81,
     "metadata": {},
     "output_type": "execute_result"
    }
   ],
   "source": [
    "prueba= (filtered_data\n",
    "     .pivot_table(index='event_name',\n",
    "                  columns='experiment_group',\n",
    "                  values='user_id', aggfunc='nunique')\n",
    "     .sort_values(by=246, ascending=False)\n",
    "     .assign(_246_247=lambda x: x[246] + x[247])\n",
    "     .drop(index='Tutorial'))  \n",
    "prueba"
   ]
  },
  {
   "cell_type": "code",
   "execution_count": 82,
   "metadata": {},
   "outputs": [
    {
     "name": "stdout",
     "output_type": "stream",
     "text": [
      "Resultado A/A para el evento OffersScreenAppear\n",
      "p-value:  0.8966517949162409\n",
      "No se pudo rechazar la hipótesis nula: no hay una diferencia significativa entre las proporciones \n"
     ]
    }
   ],
   "source": [
    "#Comparando los grupos 246 y 247 en el evento OffersScreenAppear \n",
    "#establecemos el valor de alpha en 0.05\n",
    "alpha=0.05\n",
    "\n",
    "#Calculo de la proporción de exito en OffersScreenAppear\n",
    "successes=np.array([1542,1520]) #El valor se toma de los resultados de la tabla anterior de los respectivos grupos\n",
    "trials=np.array([6458,6392]) # Estos valores salen de la suma por evento de los usuarios de cada grupo, seria la población\n",
    "\n",
    "#Cálculo de exito de los grupos\n",
    "\n",
    "p_246= successes[0] / trials[0]\n",
    "\n",
    "p_247= successes[1] / trials[1]\n",
    "\n",
    "#Cálculo de proporción de exito unido\n",
    "\n",
    "p_combined= (successes[0]+successes[1]) / (trials[0]+trials[1])\n",
    "\n",
    "#Cálculo de la diferencia\n",
    "\n",
    "difference= p_246 - p_247\n",
    "\n",
    "#Cálculo de la desviación estatandar\n",
    "\n",
    "z_value= difference / (mth.sqrt(p_combined*(1-p_combined)*((1/trials[0])+(1/trials[1]))))\n",
    "\n",
    "#Establecer la distribución normal estándar (media 0, desviación estándar 1)\n",
    "distr = st.norm(0, 1) \n",
    "\n",
    "p_value = (1 - distr.cdf(abs(z_value))) * 2\n",
    "\n",
    "\n",
    "print('Resultado A/A para el evento OffersScreenAppear')\n",
    "\n",
    "print('p-value: ', p_value)\n",
    "\n",
    "if (p_value < alpha):\n",
    "    print(\"Rechazar la hipótesis nula: hay una diferencia significativa entre las proporciones\")\n",
    "else:\n",
    "    print(\"No se pudo rechazar la hipótesis nula: no hay una diferencia significativa entre las proporciones \")"
   ]
  },
  {
   "cell_type": "markdown",
   "metadata": {},
   "source": [
    "El resultado de la prueba prueba de diferencia de proporciones arroja que no podemos rechazar la hipótesis nula de que entre los grupos no existe una diferencia estadistica, el p-value fue mayor al valor de alpha seleccionado."
   ]
  },
  {
   "cell_type": "markdown",
   "metadata": {},
   "source": [
    "#### 4.3 Selecciona el evento más popular. En cada uno de los grupos de control, encuentra la cantidad de usuarios que realizaron esta acción. Encuentra su proporción. "
   ]
  },
  {
   "cell_type": "code",
   "execution_count": 83,
   "metadata": {},
   "outputs": [
    {
     "data": {
      "text/html": [
       "<div>\n",
       "<style scoped>\n",
       "    .dataframe tbody tr th:only-of-type {\n",
       "        vertical-align: middle;\n",
       "    }\n",
       "\n",
       "    .dataframe tbody tr th {\n",
       "        vertical-align: top;\n",
       "    }\n",
       "\n",
       "    .dataframe thead th {\n",
       "        text-align: right;\n",
       "    }\n",
       "</style>\n",
       "<table border=\"1\" class=\"dataframe\">\n",
       "  <thead>\n",
       "    <tr style=\"text-align: right;\">\n",
       "      <th>experiment_group</th>\n",
       "      <th>246</th>\n",
       "      <th>247</th>\n",
       "      <th>248</th>\n",
       "    </tr>\n",
       "    <tr>\n",
       "      <th>event_name</th>\n",
       "      <th></th>\n",
       "      <th></th>\n",
       "      <th></th>\n",
       "    </tr>\n",
       "  </thead>\n",
       "  <tbody>\n",
       "    <tr>\n",
       "      <th>MainScreenAppear</th>\n",
       "      <td>1.000000</td>\n",
       "      <td>1.000000</td>\n",
       "      <td>1.000000</td>\n",
       "    </tr>\n",
       "    <tr>\n",
       "      <th>OffersScreenAppear</th>\n",
       "      <td>0.629388</td>\n",
       "      <td>0.613893</td>\n",
       "      <td>0.614120</td>\n",
       "    </tr>\n",
       "    <tr>\n",
       "      <th>CartScreenAppear</th>\n",
       "      <td>0.516735</td>\n",
       "      <td>0.500000</td>\n",
       "      <td>0.493381</td>\n",
       "    </tr>\n",
       "    <tr>\n",
       "      <th>PaymentScreenSuccessful</th>\n",
       "      <td>0.489796</td>\n",
       "      <td>0.467690</td>\n",
       "      <td>0.473726</td>\n",
       "    </tr>\n",
       "    <tr>\n",
       "      <th>Tutorial</th>\n",
       "      <td>0.113469</td>\n",
       "      <td>0.114297</td>\n",
       "      <td>0.111913</td>\n",
       "    </tr>\n",
       "  </tbody>\n",
       "</table>\n",
       "</div>"
      ],
      "text/plain": [
       "experiment_group              246       247       248\n",
       "event_name                                           \n",
       "MainScreenAppear         1.000000  1.000000  1.000000\n",
       "OffersScreenAppear       0.629388  0.613893  0.614120\n",
       "CartScreenAppear         0.516735  0.500000  0.493381\n",
       "PaymentScreenSuccessful  0.489796  0.467690  0.473726\n",
       "Tutorial                 0.113469  0.114297  0.111913"
      ]
     },
     "execution_count": 83,
     "metadata": {},
     "output_type": "execute_result"
    }
   ],
   "source": [
    "proportion_by_event"
   ]
  },
  {
   "cell_type": "markdown",
   "metadata": {},
   "source": [
    "El evento más popular es MainScreenAppear con el 100% de los usuarios en los tres grupos."
   ]
  },
  {
   "cell_type": "markdown",
   "metadata": {},
   "source": [
    "Se puede observar que los grupos en promedio son muy similares, entre los dos grupos de control hay una leve diferencia, y entre los grupos 247 y 248 son más parecidos"
   ]
  },
  {
   "cell_type": "markdown",
   "metadata": {},
   "source": [
    "#### 4.4 Comprueba si la diferencia entre los grupos es estadísticamente significativa. Repite el procedimiento para todos los demás eventos"
   ]
  },
  {
   "cell_type": "markdown",
   "metadata": {},
   "source": [
    "##### 4.4.1 Comparación entre los grupos de control 246 y 247"
   ]
  },
  {
   "cell_type": "markdown",
   "metadata": {},
   "source": [
    "A continuación se creará la función para calcular si hay diferencias estadisticas entre los grupos con el resto de los eventos"
   ]
  },
  {
   "cell_type": "code",
   "execution_count": 84,
   "metadata": {},
   "outputs": [],
   "source": [
    "def prueba_de_grupos2 (df,group1, group2, event_name ):\n",
    "    #user_sum_group1=df[group1].sum()\n",
    "    #user_sum_group2=df[group2].sum()\n",
    "\n",
    "    trails=np.array([df.loc['MainScreenAppear'].loc[group1], df.loc['MainScreenAppear'].loc[group2]])\n",
    "    successes=np.array([df.loc[event_name].loc[group1],df.loc[event_name].loc[group2]])\n",
    "\n",
    "\n",
    "#Cálculo de exito de los grupos\n",
    "\n",
    "    p1= successes[0] / trials[0]\n",
    "\n",
    "    p2= successes[1] / trials[1]\n",
    "\n",
    "#Cálculo de proporción de exito unido\n",
    "\n",
    "    p_combined= (successes[0]+successes[1]) / (trials[0]+trials[1])\n",
    "\n",
    "#Cálculo de la diferencia\n",
    "\n",
    "    difference= p1 - p2\n",
    "\n",
    "#Cálculo de la desviación estatandar\n",
    "\n",
    "    z_value= difference / (mth.sqrt(p_combined*(1-p_combined)*((1/trials[0])+(1/trials[1]))))\n",
    "\n",
    "#Establecer la distribución normal estándar (media 0, desviación estándar 1)\n",
    "    distr = st.norm(0, 1) \n",
    "\n",
    "    p_value = (1 - distr.cdf(abs(z_value))) * 2\n",
    "\n",
    "    return p_value\n"
   ]
  },
  {
   "cell_type": "code",
   "execution_count": 85,
   "metadata": {},
   "outputs": [
    {
     "name": "stdout",
     "output_type": "stream",
     "text": [
      "Resultado de test A/A para los grupos: 246 y 247\n",
      "0.8966517949162409 OffersScreenAppear\n",
      "No se pudo rechazar la hipótesis nula: no hay una diferencia significativa entre las proporciones \n",
      "0.7359876852552283 CartScreenAppear\n",
      "No se pudo rechazar la hipótesis nula: no hay una diferencia significativa entre las proporciones \n",
      "0.4957537491808677 PaymentScreenSuccessful\n",
      "No se pudo rechazar la hipótesis nula: no hay una diferencia significativa entre las proporciones \n"
     ]
    }
   ],
   "source": [
    "events=['OffersScreenAppear', 'CartScreenAppear', 'PaymentScreenSuccessful']\n",
    "print('Resultado de test A/A para los grupos: 246 y 247')\n",
    "for event in events:\n",
    "    \n",
    "    funcion=prueba_de_grupos2 (prueba,246, 247, event )\n",
    "    \n",
    "    print(funcion, event)\n",
    "\n",
    "\n",
    "    if (funcion < alpha):\n",
    "        print(\"Rechazar la hipótesis nula: hay una diferencia significativa entre las proporciones\")\n",
    "    else:\n",
    "        print(\"No se pudo rechazar la hipótesis nula: no hay una diferencia significativa entre las proporciones \")"
   ]
  },
  {
   "cell_type": "markdown",
   "metadata": {},
   "source": [
    "Como se puede observar el test para los grupos de control 246 y 247 con todos los eventos, el pvalue fue mayor a 0.05 por lo que no se puede rechazar la hipótesis nula planteada con anterioridad."
   ]
  },
  {
   "cell_type": "markdown",
   "metadata": {},
   "source": [
    "##### 4.4.2 Comparar los resultados con los de cada uno de los grupos de control para cada evento de forma aislada. Compara los resultados con los resultados combinados de los grupos de control. ¿Qué conclusiones puedes sacar del experimento?"
   ]
  },
  {
   "cell_type": "markdown",
   "metadata": {},
   "source": [
    "4.4.2.1 Comparación grupo 246 vs 248"
   ]
  },
  {
   "cell_type": "code",
   "execution_count": 86,
   "metadata": {},
   "outputs": [
    {
     "name": "stdout",
     "output_type": "stream",
     "text": [
      "Resultado de test A/B para los grupos: 246 y 248\n",
      "0.9211954497513615 OffersScreenAppear\n",
      "No se pudo rechazar la hipótesis nula: no hay una diferencia significativa entre las proporciones \n",
      "0.605234875519046 CartScreenAppear\n",
      "No se pudo rechazar la hipótesis nula: no hay una diferencia significativa entre las proporciones \n",
      "0.8778219428556662 PaymentScreenSuccessful\n",
      "No se pudo rechazar la hipótesis nula: no hay una diferencia significativa entre las proporciones \n"
     ]
    }
   ],
   "source": [
    "events=['OffersScreenAppear', 'CartScreenAppear', 'PaymentScreenSuccessful']\n",
    "print('Resultado de test A/B para los grupos: 246 y 248')\n",
    "for event in events:\n",
    "    \n",
    "    funcion=prueba_de_grupos2 (prueba,246, 248, event )\n",
    "    \n",
    "    print(funcion, event)\n",
    "\n",
    "\n",
    "    if (funcion < alpha):\n",
    "        print(\"Rechazar la hipótesis nula: hay una diferencia significativa entre las proporciones\")\n",
    "    else:\n",
    "        print(\"No se pudo rechazar la hipótesis nula: no hay una diferencia significativa entre las proporciones \")"
   ]
  },
  {
   "cell_type": "markdown",
   "metadata": {},
   "source": [
    "Comparación grupo 247 y 248"
   ]
  },
  {
   "cell_type": "code",
   "execution_count": 87,
   "metadata": {},
   "outputs": [
    {
     "name": "stdout",
     "output_type": "stream",
     "text": [
      "Resultado de test A/B para los grupos: 247 y 248\n",
      "0.5803057566395278 OffersScreenAppear\n",
      "No se pudo rechazar la hipótesis nula: no hay una diferencia significativa entre las proporciones \n",
      "0.9165981464694233 CartScreenAppear\n",
      "No se pudo rechazar la hipótesis nula: no hay una diferencia significativa entre las proporciones \n",
      "0.4234266510002511 PaymentScreenSuccessful\n",
      "No se pudo rechazar la hipótesis nula: no hay una diferencia significativa entre las proporciones \n"
     ]
    }
   ],
   "source": [
    "events=['OffersScreenAppear', 'CartScreenAppear', 'PaymentScreenSuccessful']\n",
    "print('Resultado de test A/B para los grupos: 247 y 248')\n",
    "for event in events:\n",
    "    \n",
    "    funcion=prueba_de_grupos2 (prueba,247, 248, event )\n",
    "    \n",
    "    print(funcion, event)\n",
    "\n",
    "\n",
    "    if (funcion < alpha):\n",
    "        print(\"Rechazar la hipótesis nula: hay una diferencia significativa entre las proporciones\")\n",
    "    else:\n",
    "        print(\"No se pudo rechazar la hipótesis nula: no hay una diferencia significativa entre las proporciones \")"
   ]
  },
  {
   "cell_type": "markdown",
   "metadata": {},
   "source": [
    "Comparación de grupos de control 246 y 247 vs 248"
   ]
  },
  {
   "cell_type": "code",
   "execution_count": 88,
   "metadata": {},
   "outputs": [
    {
     "name": "stdout",
     "output_type": "stream",
     "text": [
      "Resultado de test A/B para los grupos: 246_247 y 248\n",
      "0.0 OffersScreenAppear\n",
      "Rechazar la hipótesis nula: hay una diferencia significativa entre las proporciones\n",
      "0.0 CartScreenAppear\n",
      "Rechazar la hipótesis nula: hay una diferencia significativa entre las proporciones\n",
      "0.0 PaymentScreenSuccessful\n",
      "Rechazar la hipótesis nula: hay una diferencia significativa entre las proporciones\n"
     ]
    }
   ],
   "source": [
    "events=['OffersScreenAppear', 'CartScreenAppear', 'PaymentScreenSuccessful']\n",
    "print('Resultado de test A/B para los grupos: 246_247 y 248')\n",
    "for event in events:\n",
    "    \n",
    "    funcion=prueba_de_grupos2 (prueba,\"_246_247\", 248, event )\n",
    "    \n",
    "    print(funcion, event)\n",
    "\n",
    "\n",
    "    if (funcion < alpha):\n",
    "        print(\"Rechazar la hipótesis nula: hay una diferencia significativa entre las proporciones\")\n",
    "    else:\n",
    "        print(\"No se pudo rechazar la hipótesis nula: no hay una diferencia significativa entre las proporciones \")"
   ]
  },
  {
   "cell_type": "markdown",
   "metadata": {},
   "source": [
    "Para los tres eventos el pvalue resulta mayor al 5% que es el valor de significancia, por lo tanto no se puede rechazar la hipótesis nula de que no hay diferencias significativas entre los grupos, despues de haber realizado el test de hipótesis."
   ]
  },
  {
   "cell_type": "markdown",
   "metadata": {},
   "source": [
    "##### 4.5 ¿Qué nivel de significación has establecido para probar las hipótesis estadísticas mencionadas anteriormente? Calcula cuántas pruebas de hipótesis estadísticas has realizado. ¿Cuál debería ser el nivel de significación?"
   ]
  },
  {
   "cell_type": "code",
   "execution_count": 89,
   "metadata": {},
   "outputs": [
    {
     "name": "stdout",
     "output_type": "stream",
     "text": [
      "En alpha corregido segun Bonferroni es: 0.004166666666666667\n"
     ]
    }
   ],
   "source": [
    "#Se utilizó un nivel de significancia del 5% (0.05), se realizaron un total de 12 pruebas.\n",
    "#Se aplicará la corrección de Bonferroni para encontrar el nivel de significancia corregida\n",
    "\n",
    "alpha= 0.05\n",
    "n_tests=12\n",
    "bonferroni_alpha= alpha / n_tests\n",
    "print(f'En alpha corregido segun Bonferroni es: {bonferroni_alpha}')\n"
   ]
  },
  {
   "cell_type": "markdown",
   "metadata": {},
   "source": [
    "Prueba para los grupos 246 y 247"
   ]
  },
  {
   "cell_type": "code",
   "execution_count": 90,
   "metadata": {},
   "outputs": [
    {
     "name": "stdout",
     "output_type": "stream",
     "text": [
      "Resultado de test A/A para los grupos: 246 y 247\n",
      "0.8966517949162409 OffersScreenAppear\n",
      "No se pudo rechazar la hipótesis nula: no hay una diferencia significativa entre las proporciones \n",
      "0.7359876852552283 CartScreenAppear\n",
      "No se pudo rechazar la hipótesis nula: no hay una diferencia significativa entre las proporciones \n",
      "0.4957537491808677 PaymentScreenSuccessful\n",
      "No se pudo rechazar la hipótesis nula: no hay una diferencia significativa entre las proporciones \n"
     ]
    }
   ],
   "source": [
    "events=['OffersScreenAppear', 'CartScreenAppear', 'PaymentScreenSuccessful']\n",
    "print('Resultado de test A/A para los grupos: 246 y 247')\n",
    "for event in events:\n",
    "    \n",
    "    funcion=prueba_de_grupos2 (prueba,246, 247, event )\n",
    "    \n",
    "    print(funcion, event)\n",
    "\n",
    "\n",
    "    if (funcion < bonferroni_alpha):\n",
    "        print(\"Rechazar la hipótesis nula: hay una diferencia significativa entre las proporciones\")\n",
    "    else:\n",
    "        print(\"No se pudo rechazar la hipótesis nula: no hay una diferencia significativa entre las proporciones \")"
   ]
  },
  {
   "cell_type": "markdown",
   "metadata": {},
   "source": [
    "Comparación de los grupos 246 y 248"
   ]
  },
  {
   "cell_type": "code",
   "execution_count": 91,
   "metadata": {},
   "outputs": [
    {
     "name": "stdout",
     "output_type": "stream",
     "text": [
      "Resultado de test A/B para los grupos: 246 y 248\n",
      "0.8966517949162409 OffersScreenAppear\n",
      "No se pudo rechazar la hipótesis nula: no hay una diferencia significativa entre las proporciones \n",
      "0.7359876852552283 CartScreenAppear\n",
      "No se pudo rechazar la hipótesis nula: no hay una diferencia significativa entre las proporciones \n",
      "0.4957537491808677 PaymentScreenSuccessful\n",
      "No se pudo rechazar la hipótesis nula: no hay una diferencia significativa entre las proporciones \n"
     ]
    }
   ],
   "source": [
    "events=['OffersScreenAppear', 'CartScreenAppear', 'PaymentScreenSuccessful']\n",
    "print('Resultado de test A/B para los grupos: 246 y 248')\n",
    "for event in events:\n",
    "    \n",
    "    funcion=prueba_de_grupos2 (prueba,246, 247, event )\n",
    "    \n",
    "    print(funcion, event)\n",
    "\n",
    "\n",
    "    if (funcion < bonferroni_alpha):\n",
    "        print(\"Rechazar la hipótesis nula: hay una diferencia significativa entre las proporciones\")\n",
    "    else:\n",
    "        print(\"No se pudo rechazar la hipótesis nula: no hay una diferencia significativa entre las proporciones \")"
   ]
  },
  {
   "cell_type": "markdown",
   "metadata": {},
   "source": [
    "Comparación de los grupos 247 y 248"
   ]
  },
  {
   "cell_type": "code",
   "execution_count": 92,
   "metadata": {},
   "outputs": [
    {
     "name": "stdout",
     "output_type": "stream",
     "text": [
      "Resultado de test A/B para los grupos: 247 y 248\n",
      "0.5803057566395278 OffersScreenAppear\n",
      "No se pudo rechazar la hipótesis nula: no hay una diferencia significativa entre las proporciones \n",
      "0.9165981464694233 CartScreenAppear\n",
      "No se pudo rechazar la hipótesis nula: no hay una diferencia significativa entre las proporciones \n",
      "0.4234266510002511 PaymentScreenSuccessful\n",
      "No se pudo rechazar la hipótesis nula: no hay una diferencia significativa entre las proporciones \n"
     ]
    }
   ],
   "source": [
    "events=['OffersScreenAppear', 'CartScreenAppear', 'PaymentScreenSuccessful']\n",
    "print('Resultado de test A/B para los grupos: 247 y 248')\n",
    "for event in events:\n",
    "    \n",
    "    funcion=prueba_de_grupos2 (prueba,247, 248, event )\n",
    "    \n",
    "    print(funcion, event)\n",
    "\n",
    "\n",
    "    if (funcion < bonferroni_alpha):\n",
    "        print(\"Rechazar la hipótesis nula: hay una diferencia significativa entre las proporciones\")\n",
    "    else:\n",
    "        print(\"No se pudo rechazar la hipótesis nula: no hay una diferencia significativa entre las proporciones \")"
   ]
  },
  {
   "cell_type": "markdown",
   "metadata": {},
   "source": [
    "Comparación para los grupos de control 246 y 247 vs. 248"
   ]
  },
  {
   "cell_type": "code",
   "execution_count": 93,
   "metadata": {},
   "outputs": [
    {
     "name": "stdout",
     "output_type": "stream",
     "text": [
      "Resultado de test A/B para los grupos: 247 y 248\n",
      "0.0 OffersScreenAppear\n",
      "Rechazar la hipótesis nula: hay una diferencia significativa entre las proporciones\n",
      "0.0 CartScreenAppear\n",
      "Rechazar la hipótesis nula: hay una diferencia significativa entre las proporciones\n",
      "0.0 PaymentScreenSuccessful\n",
      "Rechazar la hipótesis nula: hay una diferencia significativa entre las proporciones\n"
     ]
    }
   ],
   "source": [
    "events=['OffersScreenAppear', 'CartScreenAppear', 'PaymentScreenSuccessful']\n",
    "print('Resultado de test A/B para los grupos: 247 y 248')\n",
    "for event in events:\n",
    "    \n",
    "    funcion=prueba_de_grupos2 (prueba,'_246_247', 248, event )\n",
    "    \n",
    "    print(funcion, event)\n",
    "\n",
    "\n",
    "    if (funcion < bonferroni_alpha):\n",
    "        print(\"Rechazar la hipótesis nula: hay una diferencia significativa entre las proporciones\")\n",
    "    else:\n",
    "        print(\"No se pudo rechazar la hipótesis nula: no hay una diferencia significativa entre las proporciones \")"
   ]
  },
  {
   "cell_type": "markdown",
   "metadata": {},
   "source": [
    "Luego de haber realizado la corrección del valor de alpha la hipótesis nula no pudo ser rechazada en ninguno de los tests, por lo que no hay diferencias significativas entre los grupos."
   ]
  },
  {
   "cell_type": "code",
   "execution_count": 94,
   "metadata": {},
   "outputs": [
    {
     "data": {
      "text/html": [
       "<div>\n",
       "<style scoped>\n",
       "    .dataframe tbody tr th:only-of-type {\n",
       "        vertical-align: middle;\n",
       "    }\n",
       "\n",
       "    .dataframe tbody tr th {\n",
       "        vertical-align: top;\n",
       "    }\n",
       "\n",
       "    .dataframe thead th {\n",
       "        text-align: right;\n",
       "    }\n",
       "</style>\n",
       "<table border=\"1\" class=\"dataframe\">\n",
       "  <thead>\n",
       "    <tr style=\"text-align: right;\">\n",
       "      <th>experiment_group</th>\n",
       "      <th>246</th>\n",
       "      <th>247</th>\n",
       "      <th>248</th>\n",
       "      <th>_246_247</th>\n",
       "    </tr>\n",
       "    <tr>\n",
       "      <th>event_name</th>\n",
       "      <th></th>\n",
       "      <th></th>\n",
       "      <th></th>\n",
       "      <th></th>\n",
       "    </tr>\n",
       "  </thead>\n",
       "  <tbody>\n",
       "    <tr>\n",
       "      <th>MainScreenAppear</th>\n",
       "      <td>2450</td>\n",
       "      <td>2476</td>\n",
       "      <td>2493</td>\n",
       "      <td>4926</td>\n",
       "    </tr>\n",
       "    <tr>\n",
       "      <th>OffersScreenAppear</th>\n",
       "      <td>1542</td>\n",
       "      <td>1520</td>\n",
       "      <td>1531</td>\n",
       "      <td>3062</td>\n",
       "    </tr>\n",
       "    <tr>\n",
       "      <th>CartScreenAppear</th>\n",
       "      <td>1266</td>\n",
       "      <td>1238</td>\n",
       "      <td>1230</td>\n",
       "      <td>2504</td>\n",
       "    </tr>\n",
       "    <tr>\n",
       "      <th>PaymentScreenSuccessful</th>\n",
       "      <td>1200</td>\n",
       "      <td>1158</td>\n",
       "      <td>1181</td>\n",
       "      <td>2358</td>\n",
       "    </tr>\n",
       "  </tbody>\n",
       "</table>\n",
       "</div>"
      ],
      "text/plain": [
       "experiment_group          246   247   248  _246_247\n",
       "event_name                                         \n",
       "MainScreenAppear         2450  2476  2493      4926\n",
       "OffersScreenAppear       1542  1520  1531      3062\n",
       "CartScreenAppear         1266  1238  1230      2504\n",
       "PaymentScreenSuccessful  1200  1158  1181      2358"
      ]
     },
     "execution_count": 94,
     "metadata": {},
     "output_type": "execute_result"
    }
   ],
   "source": [
    "prueba= (filtered_data\n",
    "     .pivot_table(index='event_name',\n",
    "                  columns='experiment_group',\n",
    "                  values='user_id', aggfunc='nunique')\n",
    "     .sort_values(by=246, ascending=False)\n",
    "     .assign(_246_247=lambda x: x[246] + x[247])\n",
    "     .drop(index='Tutorial'))  \n",
    "prueba"
   ]
  },
  {
   "cell_type": "code",
   "execution_count": 95,
   "metadata": {},
   "outputs": [
    {
     "data": {
      "text/plain": [
       "2450"
      ]
     },
     "execution_count": 95,
     "metadata": {},
     "output_type": "execute_result"
    }
   ],
   "source": [
    "prueba.loc['MainScreenAppear'].loc[246]"
   ]
  },
  {
   "cell_type": "code",
   "execution_count": 96,
   "metadata": {},
   "outputs": [
    {
     "data": {
      "text/plain": [
       "4926"
      ]
     },
     "execution_count": 96,
     "metadata": {},
     "output_type": "execute_result"
    }
   ],
   "source": [
    "prueba.loc['MainScreenAppear'].loc['_246_247']"
   ]
  },
  {
   "cell_type": "code",
   "execution_count": 97,
   "metadata": {},
   "outputs": [
    {
     "data": {
      "text/plain": [
       "6458"
      ]
     },
     "execution_count": 97,
     "metadata": {},
     "output_type": "execute_result"
    }
   ],
   "source": [
    "prueba[246].sum()"
   ]
  },
  {
   "cell_type": "code",
   "execution_count": 98,
   "metadata": {},
   "outputs": [
    {
     "data": {
      "text/plain": [
       "array([4926, 2493])"
      ]
     },
     "execution_count": 98,
     "metadata": {},
     "output_type": "execute_result"
    }
   ],
   "source": [
    "successes=np.array([prueba.loc['MainScreenAppear'].loc['_246_247'],prueba.loc['MainScreenAppear'].loc[248]])\n",
    "successes"
   ]
  },
  {
   "cell_type": "code",
   "execution_count": 99,
   "metadata": {},
   "outputs": [
    {
     "data": {
      "text/plain": [
       "array([4926, 2493])"
      ]
     },
     "execution_count": 99,
     "metadata": {},
     "output_type": "execute_result"
    }
   ],
   "source": [
    "trails=np.array([prueba.loc['MainScreenAppear'].loc['_246_247'], prueba.loc['MainScreenAppear'].loc[248]])\n",
    "trails"
   ]
  },
  {
   "cell_type": "code",
   "execution_count": 100,
   "metadata": {},
   "outputs": [
    {
     "data": {
      "text/plain": [
       "array([12850,  6435])"
      ]
     },
     "execution_count": 100,
     "metadata": {},
     "output_type": "execute_result"
    }
   ],
   "source": [
    "user_sum_group1=prueba['_246_247'].sum()\n",
    "user_sum_group2=prueba[248].sum()\n",
    "\n",
    "trails=np.array([user_sum_group1, user_sum_group2])\n",
    "trails"
   ]
  },
  {
   "cell_type": "code",
   "execution_count": 101,
   "metadata": {},
   "outputs": [
    {
     "data": {
      "text/plain": [
       "0.7627748528956333"
      ]
     },
     "execution_count": 101,
     "metadata": {},
     "output_type": "execute_result"
    }
   ],
   "source": [
    "p_1= successes[0] / trials[0]\n",
    "\n",
    "p_2= successes[1] / trials[1]\n",
    "p_1\n"
   ]
  },
  {
   "cell_type": "code",
   "execution_count": 102,
   "metadata": {},
   "outputs": [
    {
     "name": "stdout",
     "output_type": "stream",
     "text": [
      "<class 'pandas.core.frame.DataFrame'>\n",
      "Index: 4 entries, MainScreenAppear to PaymentScreenSuccessful\n",
      "Data columns (total 4 columns):\n",
      " #   Column    Non-Null Count  Dtype\n",
      "---  ------    --------------  -----\n",
      " 0   246       4 non-null      int64\n",
      " 1   247       4 non-null      int64\n",
      " 2   248       4 non-null      int64\n",
      " 3   _246_247  4 non-null      int64\n",
      "dtypes: int64(4)\n",
      "memory usage: 332.0+ bytes\n"
     ]
    }
   ],
   "source": [
    "prueba.info()"
   ]
  },
  {
   "cell_type": "markdown",
   "metadata": {},
   "source": [
    "## Conclusiones\n",
    "\n",
    "* Se detrerminó a través de un histograma que la fecha a partir de que los datos estaban completos es el 01-08-2019.\n",
    "\n",
    "* Se determina que el orden en que ocurren los eventos es main screen, offer screen, cart screen, payment screen. Tutorial no es parte de la secuencia ya que puede o no pasar por ese paso y no afecta el orden de los pasos para lograr hacer una compra.\n",
    "\n",
    "* Se hallaron los usuarios por etapa, promediando los tres grupos se obtuvo que para main screen 2473, offer screen 1531, cart screen 1245, payment 1180 usuarios. De ello se desprende que **entre main screen y offer screen hay una perdida de 38% de los usuarios**\n",
    "\n",
    "* Se observa que **entre el 46% y el 48%** de los usuarios hacen el recorrido completo\n",
    "\n",
    "* Los resultados del experimento de pruebas de hipótesis de los dos grupos de control y del experimental en cada uno de los eventos, **no se pudo rechazar la hipótesis nula** ya que no se encontraron diferencias significativas entre los grupos luego de aplicado los tests.\n",
    "\n",
    "* Se realizó la correción del nivel de significación utilizando la corrección de Bonferroni y de igual forma **no se pudo rechazar la hipótesis nula** ya que no se encontraron diferencias significativas entre los grupos.\n",
    "\n",
    "* Esta paridad entre los grupos indica que los cambios realizados no cambiaron el comportamiento de los usuarios.\n",
    "\n"
   ]
  }
 ],
 "metadata": {
  "kernelspec": {
   "display_name": "Python 3 (ipykernel)",
   "language": "python",
   "name": "python3"
  },
  "language_info": {
   "codemirror_mode": {
    "name": "ipython",
    "version": 3
   },
   "file_extension": ".py",
   "mimetype": "text/x-python",
   "name": "python",
   "nbconvert_exporter": "python",
   "pygments_lexer": "ipython3",
   "version": "3.9.5"
  },
  "toc": {
   "base_numbering": 1,
   "nav_menu": {},
   "number_sections": true,
   "sideBar": true,
   "skip_h1_title": true,
   "title_cell": "Table of Contents",
   "title_sidebar": "Contents",
   "toc_cell": false,
   "toc_position": {},
   "toc_section_display": true,
   "toc_window_display": false
  }
 },
 "nbformat": 4,
 "nbformat_minor": 2
}
